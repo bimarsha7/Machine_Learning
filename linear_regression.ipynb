{
 "cells": [
  {
   "cell_type": "code",
   "execution_count": 3,
   "metadata": {},
   "outputs": [
    {
     "name": "stdout",
     "output_type": "stream",
     "text": [
      "2.0.0-alpha0\n"
     ]
    }
   ],
   "source": [
    "from __future__ import absolute_import, division, print_function, unicode_literals\n",
    "import pathlib\n",
    "\n",
    "import tensorflow as tf\n",
    "from tensorflow import keras\n",
    "from tensorflow.keras import layers\n",
    "print(tf.__version__)"
   ]
  },
  {
   "cell_type": "code",
   "execution_count": 4,
   "metadata": {},
   "outputs": [],
   "source": [
    "#import numpy as np\n",
    "#import scipy as sp\n",
    "import pandas as pd\n",
    "import matplotlib.pyplot as plt\n",
    "import statsmodels.api as sm\n",
    "import seaborn as sns"
   ]
  },
  {
   "cell_type": "code",
   "execution_count": 5,
   "metadata": {},
   "outputs": [
    {
     "data": {
      "text/plain": [
       "'/home/bmrs/.keras/datasets/auto-mpg.data'"
      ]
     },
     "execution_count": 5,
     "metadata": {},
     "output_type": "execute_result"
    }
   ],
   "source": [
    "dataPath = keras.utils.get_file(\"auto-mpg.data\", \"http://archive.ics.uci.edu/ml/machine-learning-databases/auto-mpg/auto-mpg.data\")\n",
    "dataPath\n"
   ]
  },
  {
   "cell_type": "code",
   "execution_count": 6,
   "metadata": {},
   "outputs": [
    {
     "data": {
      "text/html": [
       "<div>\n",
       "<style scoped>\n",
       "    .dataframe tbody tr th:only-of-type {\n",
       "        vertical-align: middle;\n",
       "    }\n",
       "\n",
       "    .dataframe tbody tr th {\n",
       "        vertical-align: top;\n",
       "    }\n",
       "\n",
       "    .dataframe thead th {\n",
       "        text-align: right;\n",
       "    }\n",
       "</style>\n",
       "<table border=\"1\" class=\"dataframe\">\n",
       "  <thead>\n",
       "    <tr style=\"text-align: right;\">\n",
       "      <th></th>\n",
       "      <th>mpg</th>\n",
       "      <th>cylinders</th>\n",
       "      <th>displacement</th>\n",
       "      <th>hp</th>\n",
       "      <th>weight</th>\n",
       "      <th>acceleration</th>\n",
       "      <th>model year</th>\n",
       "      <th>origin</th>\n",
       "    </tr>\n",
       "  </thead>\n",
       "  <tbody>\n",
       "    <tr>\n",
       "      <th>0</th>\n",
       "      <td>18.0</td>\n",
       "      <td>8</td>\n",
       "      <td>307.0</td>\n",
       "      <td>130.0</td>\n",
       "      <td>3504.0</td>\n",
       "      <td>12.0</td>\n",
       "      <td>70</td>\n",
       "      <td>1</td>\n",
       "    </tr>\n",
       "    <tr>\n",
       "      <th>1</th>\n",
       "      <td>15.0</td>\n",
       "      <td>8</td>\n",
       "      <td>350.0</td>\n",
       "      <td>165.0</td>\n",
       "      <td>3693.0</td>\n",
       "      <td>11.5</td>\n",
       "      <td>70</td>\n",
       "      <td>1</td>\n",
       "    </tr>\n",
       "    <tr>\n",
       "      <th>2</th>\n",
       "      <td>18.0</td>\n",
       "      <td>8</td>\n",
       "      <td>318.0</td>\n",
       "      <td>150.0</td>\n",
       "      <td>3436.0</td>\n",
       "      <td>11.0</td>\n",
       "      <td>70</td>\n",
       "      <td>1</td>\n",
       "    </tr>\n",
       "    <tr>\n",
       "      <th>3</th>\n",
       "      <td>16.0</td>\n",
       "      <td>8</td>\n",
       "      <td>304.0</td>\n",
       "      <td>150.0</td>\n",
       "      <td>3433.0</td>\n",
       "      <td>12.0</td>\n",
       "      <td>70</td>\n",
       "      <td>1</td>\n",
       "    </tr>\n",
       "    <tr>\n",
       "      <th>4</th>\n",
       "      <td>17.0</td>\n",
       "      <td>8</td>\n",
       "      <td>302.0</td>\n",
       "      <td>140.0</td>\n",
       "      <td>3449.0</td>\n",
       "      <td>10.5</td>\n",
       "      <td>70</td>\n",
       "      <td>1</td>\n",
       "    </tr>\n",
       "    <tr>\n",
       "      <th>5</th>\n",
       "      <td>15.0</td>\n",
       "      <td>8</td>\n",
       "      <td>429.0</td>\n",
       "      <td>198.0</td>\n",
       "      <td>4341.0</td>\n",
       "      <td>10.0</td>\n",
       "      <td>70</td>\n",
       "      <td>1</td>\n",
       "    </tr>\n",
       "    <tr>\n",
       "      <th>6</th>\n",
       "      <td>14.0</td>\n",
       "      <td>8</td>\n",
       "      <td>454.0</td>\n",
       "      <td>220.0</td>\n",
       "      <td>4354.0</td>\n",
       "      <td>9.0</td>\n",
       "      <td>70</td>\n",
       "      <td>1</td>\n",
       "    </tr>\n",
       "    <tr>\n",
       "      <th>7</th>\n",
       "      <td>14.0</td>\n",
       "      <td>8</td>\n",
       "      <td>440.0</td>\n",
       "      <td>215.0</td>\n",
       "      <td>4312.0</td>\n",
       "      <td>8.5</td>\n",
       "      <td>70</td>\n",
       "      <td>1</td>\n",
       "    </tr>\n",
       "    <tr>\n",
       "      <th>8</th>\n",
       "      <td>14.0</td>\n",
       "      <td>8</td>\n",
       "      <td>455.0</td>\n",
       "      <td>225.0</td>\n",
       "      <td>4425.0</td>\n",
       "      <td>10.0</td>\n",
       "      <td>70</td>\n",
       "      <td>1</td>\n",
       "    </tr>\n",
       "    <tr>\n",
       "      <th>9</th>\n",
       "      <td>15.0</td>\n",
       "      <td>8</td>\n",
       "      <td>390.0</td>\n",
       "      <td>190.0</td>\n",
       "      <td>3850.0</td>\n",
       "      <td>8.5</td>\n",
       "      <td>70</td>\n",
       "      <td>1</td>\n",
       "    </tr>\n",
       "  </tbody>\n",
       "</table>\n",
       "</div>"
      ],
      "text/plain": [
       "    mpg  cylinders  displacement     hp  weight  acceleration  model year  \\\n",
       "0  18.0          8         307.0  130.0  3504.0          12.0          70   \n",
       "1  15.0          8         350.0  165.0  3693.0          11.5          70   \n",
       "2  18.0          8         318.0  150.0  3436.0          11.0          70   \n",
       "3  16.0          8         304.0  150.0  3433.0          12.0          70   \n",
       "4  17.0          8         302.0  140.0  3449.0          10.5          70   \n",
       "5  15.0          8         429.0  198.0  4341.0          10.0          70   \n",
       "6  14.0          8         454.0  220.0  4354.0           9.0          70   \n",
       "7  14.0          8         440.0  215.0  4312.0           8.5          70   \n",
       "8  14.0          8         455.0  225.0  4425.0          10.0          70   \n",
       "9  15.0          8         390.0  190.0  3850.0           8.5          70   \n",
       "\n",
       "   origin  \n",
       "0       1  \n",
       "1       1  \n",
       "2       1  \n",
       "3       1  \n",
       "4       1  \n",
       "5       1  \n",
       "6       1  \n",
       "7       1  \n",
       "8       1  \n",
       "9       1  "
      ]
     },
     "execution_count": 6,
     "metadata": {},
     "output_type": "execute_result"
    }
   ],
   "source": [
    "columnNames = ['mpg', 'cylinders', 'displacement', 'hp', 'weight', 'acceleration', 'model year', 'origin']\n",
    "rawData = pd.read_csv('/home/bmrs/.keras/datasets/auto-mpg.data', names= columnNames, na_values=\"?\", comment='\\t', sep=\" \", skipinitialspace=True)\n",
    "rawData.head(10)"
   ]
  },
  {
   "cell_type": "code",
   "execution_count": 7,
   "metadata": {},
   "outputs": [
    {
     "data": {
      "text/html": [
       "<div>\n",
       "<style scoped>\n",
       "    .dataframe tbody tr th:only-of-type {\n",
       "        vertical-align: middle;\n",
       "    }\n",
       "\n",
       "    .dataframe tbody tr th {\n",
       "        vertical-align: top;\n",
       "    }\n",
       "\n",
       "    .dataframe thead th {\n",
       "        text-align: right;\n",
       "    }\n",
       "</style>\n",
       "<table border=\"1\" class=\"dataframe\">\n",
       "  <thead>\n",
       "    <tr style=\"text-align: right;\">\n",
       "      <th></th>\n",
       "      <th>mpg</th>\n",
       "      <th>cylinders</th>\n",
       "      <th>displacement</th>\n",
       "      <th>hp</th>\n",
       "      <th>weight</th>\n",
       "      <th>acceleration</th>\n",
       "      <th>model year</th>\n",
       "      <th>origin</th>\n",
       "    </tr>\n",
       "  </thead>\n",
       "  <tbody>\n",
       "    <tr>\n",
       "      <th>393</th>\n",
       "      <td>27.0</td>\n",
       "      <td>4</td>\n",
       "      <td>140.0</td>\n",
       "      <td>86.0</td>\n",
       "      <td>2790.0</td>\n",
       "      <td>15.6</td>\n",
       "      <td>82</td>\n",
       "      <td>1</td>\n",
       "    </tr>\n",
       "    <tr>\n",
       "      <th>394</th>\n",
       "      <td>44.0</td>\n",
       "      <td>4</td>\n",
       "      <td>97.0</td>\n",
       "      <td>52.0</td>\n",
       "      <td>2130.0</td>\n",
       "      <td>24.6</td>\n",
       "      <td>82</td>\n",
       "      <td>2</td>\n",
       "    </tr>\n",
       "    <tr>\n",
       "      <th>395</th>\n",
       "      <td>32.0</td>\n",
       "      <td>4</td>\n",
       "      <td>135.0</td>\n",
       "      <td>84.0</td>\n",
       "      <td>2295.0</td>\n",
       "      <td>11.6</td>\n",
       "      <td>82</td>\n",
       "      <td>1</td>\n",
       "    </tr>\n",
       "    <tr>\n",
       "      <th>396</th>\n",
       "      <td>28.0</td>\n",
       "      <td>4</td>\n",
       "      <td>120.0</td>\n",
       "      <td>79.0</td>\n",
       "      <td>2625.0</td>\n",
       "      <td>18.6</td>\n",
       "      <td>82</td>\n",
       "      <td>1</td>\n",
       "    </tr>\n",
       "    <tr>\n",
       "      <th>397</th>\n",
       "      <td>31.0</td>\n",
       "      <td>4</td>\n",
       "      <td>119.0</td>\n",
       "      <td>82.0</td>\n",
       "      <td>2720.0</td>\n",
       "      <td>19.4</td>\n",
       "      <td>82</td>\n",
       "      <td>1</td>\n",
       "    </tr>\n",
       "  </tbody>\n",
       "</table>\n",
       "</div>"
      ],
      "text/plain": [
       "      mpg  cylinders  displacement    hp  weight  acceleration  model year  \\\n",
       "393  27.0          4         140.0  86.0  2790.0          15.6          82   \n",
       "394  44.0          4          97.0  52.0  2130.0          24.6          82   \n",
       "395  32.0          4         135.0  84.0  2295.0          11.6          82   \n",
       "396  28.0          4         120.0  79.0  2625.0          18.6          82   \n",
       "397  31.0          4         119.0  82.0  2720.0          19.4          82   \n",
       "\n",
       "     origin  \n",
       "393       1  \n",
       "394       2  \n",
       "395       1  \n",
       "396       1  \n",
       "397       1  "
      ]
     },
     "execution_count": 7,
     "metadata": {},
     "output_type": "execute_result"
    }
   ],
   "source": [
    "dataset = rawData.copy()\n",
    "dataset.tail()"
   ]
  },
  {
   "cell_type": "code",
   "execution_count": 8,
   "metadata": {},
   "outputs": [
    {
     "data": {
      "text/plain": [
       "mpg             0\n",
       "cylinders       0\n",
       "displacement    0\n",
       "hp              6\n",
       "weight          0\n",
       "acceleration    0\n",
       "model year      0\n",
       "origin          0\n",
       "dtype: int64"
      ]
     },
     "execution_count": 8,
     "metadata": {},
     "output_type": "execute_result"
    }
   ],
   "source": [
    "dataset.isna().sum()"
   ]
  },
  {
   "cell_type": "code",
   "execution_count": 9,
   "metadata": {},
   "outputs": [],
   "source": [
    "dataset = dataset.dropna() # removes 6 records containg NA value of attribute 'hp'"
   ]
  },
  {
   "cell_type": "markdown",
   "metadata": {},
   "source": [
    "..alternate"
   ]
  },
  {
   "cell_type": "markdown",
   "metadata": {},
   "source": [
    "**we could repalce NA with mean/median values as well**\n"
   ]
  },
  {
   "cell_type": "code",
   "execution_count": 8,
   "metadata": {},
   "outputs": [
    {
     "data": {
      "text/plain": [
       "mpg             0\n",
       "cylinders       0\n",
       "displacement    0\n",
       "hp              0\n",
       "weight          0\n",
       "acceleration    0\n",
       "model year      0\n",
       "origin          0\n",
       "dtype: int64"
      ]
     },
     "execution_count": 8,
     "metadata": {},
     "output_type": "execute_result"
    }
   ],
   "source": [
    "dataset2 = rawData.copy()\n",
    "dataset2.isna().sum()\n",
    "\n",
    "values = {'hp': '104.469388'} #mean for column hp = 104.469388\n",
    "dataset2 = dataset2.fillna(value = values)\n",
    "\n",
    "dataset2.isna().sum()"
   ]
  },
  {
   "cell_type": "markdown",
   "metadata": {},
   "source": [
    "..contd "
   ]
  },
  {
   "cell_type": "code",
   "execution_count": 10,
   "metadata": {},
   "outputs": [
    {
     "data": {
      "text/html": [
       "<div>\n",
       "<style scoped>\n",
       "    .dataframe tbody tr th:only-of-type {\n",
       "        vertical-align: middle;\n",
       "    }\n",
       "\n",
       "    .dataframe tbody tr th {\n",
       "        vertical-align: top;\n",
       "    }\n",
       "\n",
       "    .dataframe thead th {\n",
       "        text-align: right;\n",
       "    }\n",
       "</style>\n",
       "<table border=\"1\" class=\"dataframe\">\n",
       "  <thead>\n",
       "    <tr style=\"text-align: right;\">\n",
       "      <th></th>\n",
       "      <th>mpg</th>\n",
       "      <th>cylinders</th>\n",
       "      <th>displacement</th>\n",
       "      <th>hp</th>\n",
       "      <th>weight</th>\n",
       "      <th>acceleration</th>\n",
       "      <th>model year</th>\n",
       "      <th>origin</th>\n",
       "    </tr>\n",
       "  </thead>\n",
       "  <tbody>\n",
       "    <tr>\n",
       "      <th>393</th>\n",
       "      <td>27.0</td>\n",
       "      <td>4</td>\n",
       "      <td>140.0</td>\n",
       "      <td>86.0</td>\n",
       "      <td>2790.0</td>\n",
       "      <td>15.6</td>\n",
       "      <td>82</td>\n",
       "      <td>1</td>\n",
       "    </tr>\n",
       "    <tr>\n",
       "      <th>394</th>\n",
       "      <td>44.0</td>\n",
       "      <td>4</td>\n",
       "      <td>97.0</td>\n",
       "      <td>52.0</td>\n",
       "      <td>2130.0</td>\n",
       "      <td>24.6</td>\n",
       "      <td>82</td>\n",
       "      <td>2</td>\n",
       "    </tr>\n",
       "    <tr>\n",
       "      <th>395</th>\n",
       "      <td>32.0</td>\n",
       "      <td>4</td>\n",
       "      <td>135.0</td>\n",
       "      <td>84.0</td>\n",
       "      <td>2295.0</td>\n",
       "      <td>11.6</td>\n",
       "      <td>82</td>\n",
       "      <td>1</td>\n",
       "    </tr>\n",
       "    <tr>\n",
       "      <th>396</th>\n",
       "      <td>28.0</td>\n",
       "      <td>4</td>\n",
       "      <td>120.0</td>\n",
       "      <td>79.0</td>\n",
       "      <td>2625.0</td>\n",
       "      <td>18.6</td>\n",
       "      <td>82</td>\n",
       "      <td>1</td>\n",
       "    </tr>\n",
       "    <tr>\n",
       "      <th>397</th>\n",
       "      <td>31.0</td>\n",
       "      <td>4</td>\n",
       "      <td>119.0</td>\n",
       "      <td>82.0</td>\n",
       "      <td>2720.0</td>\n",
       "      <td>19.4</td>\n",
       "      <td>82</td>\n",
       "      <td>1</td>\n",
       "    </tr>\n",
       "  </tbody>\n",
       "</table>\n",
       "</div>"
      ],
      "text/plain": [
       "      mpg  cylinders  displacement    hp  weight  acceleration  model year  \\\n",
       "393  27.0          4         140.0  86.0  2790.0          15.6          82   \n",
       "394  44.0          4          97.0  52.0  2130.0          24.6          82   \n",
       "395  32.0          4         135.0  84.0  2295.0          11.6          82   \n",
       "396  28.0          4         120.0  79.0  2625.0          18.6          82   \n",
       "397  31.0          4         119.0  82.0  2720.0          19.4          82   \n",
       "\n",
       "     origin  \n",
       "393       1  \n",
       "394       2  \n",
       "395       1  \n",
       "396       1  \n",
       "397       1  "
      ]
     },
     "execution_count": 10,
     "metadata": {},
     "output_type": "execute_result"
    }
   ],
   "source": [
    "dataset.tail()"
   ]
  },
  {
   "cell_type": "markdown",
   "metadata": {},
   "source": [
    "the 'Origin' attribute is actually categorical not numerical so we change it to different attributes containing bool values. like USA = 1/0 , Japan = 1/0"
   ]
  },
  {
   "cell_type": "code",
   "execution_count": 11,
   "metadata": {},
   "outputs": [],
   "source": [
    "origin = dataset.pop('origin')"
   ]
  },
  {
   "cell_type": "code",
   "execution_count": 12,
   "metadata": {},
   "outputs": [],
   "source": [
    "dataset['usa'] = (origin == 1) * 1.0\n",
    "dataset['europe'] = (origin == 2) * 1.0\n",
    "dataset['japan'] = (origin == 3) * 1.0"
   ]
  },
  {
   "cell_type": "markdown",
   "metadata": {},
   "source": [
    "#dataset.head(10)\n",
    "\n",
    "**Creating training data set and testing data set**"
   ]
  },
  {
   "cell_type": "code",
   "execution_count": 29,
   "metadata": {},
   "outputs": [
    {
     "data": {
      "text/plain": [
       "10"
      ]
     },
     "execution_count": 29,
     "metadata": {},
     "output_type": "execute_result"
    }
   ],
   "source": [
    "train_data = dataset.sample(frac = 0.8, random_state = 1 )\n",
    "\n",
    "test_data = dataset.drop(train_data.index)\n",
    "# print(test_data)\n",
    "# train_data.iloc[0:5] integer based indexing\n",
    "# train_data.iat[0, 1] particular value is extracted\n",
    "len(train_data.keys())"
   ]
  },
  {
   "cell_type": "code",
   "execution_count": 14,
   "metadata": {},
   "outputs": [
    {
     "data": {
      "text/plain": [
       "<seaborn.axisgrid.PairGrid at 0x7f02ec4692e8>"
      ]
     },
     "execution_count": 14,
     "metadata": {},
     "output_type": "execute_result"
    },
    {
     "data": {
      "image/png": "[encoded data removed]",
      "text/plain": [
       "<Figure size 720x720 with 20 Axes>"
      ]
     },
     "metadata": {
      "needs_background": "light"
     },
     "output_type": "display_data"
    }
   ],
   "source": [
    "sns.pairplot(train_data[['mpg', 'cylinders', 'displacement', 'weight']], diag_kind = 'kde')"
   ]
  },
  {
   "cell_type": "code",
   "execution_count": 15,
   "metadata": {},
   "outputs": [
    {
     "data": {
      "text/html": [
       "<div>\n",
       "<style scoped>\n",
       "    .dataframe tbody tr th:only-of-type {\n",
       "        vertical-align: middle;\n",
       "    }\n",
       "\n",
       "    .dataframe tbody tr th {\n",
       "        vertical-align: top;\n",
       "    }\n",
       "\n",
       "    .dataframe thead th {\n",
       "        text-align: right;\n",
       "    }\n",
       "</style>\n",
       "<table border=\"1\" class=\"dataframe\">\n",
       "  <thead>\n",
       "    <tr style=\"text-align: right;\">\n",
       "      <th></th>\n",
       "      <th>mpg</th>\n",
       "      <th>cylinders</th>\n",
       "      <th>displacement</th>\n",
       "      <th>hp</th>\n",
       "      <th>weight</th>\n",
       "      <th>acceleration</th>\n",
       "      <th>model year</th>\n",
       "      <th>usa</th>\n",
       "      <th>europe</th>\n",
       "      <th>japan</th>\n",
       "    </tr>\n",
       "  </thead>\n",
       "  <tbody>\n",
       "    <tr>\n",
       "      <th>count</th>\n",
       "      <td>314.000000</td>\n",
       "      <td>314.000000</td>\n",
       "      <td>314.000000</td>\n",
       "      <td>314.000000</td>\n",
       "      <td>314.000000</td>\n",
       "      <td>314.000000</td>\n",
       "      <td>314.000000</td>\n",
       "      <td>314.000000</td>\n",
       "      <td>314.000000</td>\n",
       "      <td>314.000000</td>\n",
       "    </tr>\n",
       "    <tr>\n",
       "      <th>mean</th>\n",
       "      <td>23.532166</td>\n",
       "      <td>5.490446</td>\n",
       "      <td>195.472930</td>\n",
       "      <td>104.108280</td>\n",
       "      <td>2972.388535</td>\n",
       "      <td>15.509236</td>\n",
       "      <td>76.012739</td>\n",
       "      <td>0.630573</td>\n",
       "      <td>0.178344</td>\n",
       "      <td>0.191083</td>\n",
       "    </tr>\n",
       "    <tr>\n",
       "      <th>std</th>\n",
       "      <td>7.951761</td>\n",
       "      <td>1.703662</td>\n",
       "      <td>105.269835</td>\n",
       "      <td>38.153395</td>\n",
       "      <td>844.377092</td>\n",
       "      <td>2.797765</td>\n",
       "      <td>3.678775</td>\n",
       "      <td>0.483420</td>\n",
       "      <td>0.383413</td>\n",
       "      <td>0.393782</td>\n",
       "    </tr>\n",
       "    <tr>\n",
       "      <th>min</th>\n",
       "      <td>9.000000</td>\n",
       "      <td>3.000000</td>\n",
       "      <td>68.000000</td>\n",
       "      <td>46.000000</td>\n",
       "      <td>1613.000000</td>\n",
       "      <td>8.000000</td>\n",
       "      <td>70.000000</td>\n",
       "      <td>0.000000</td>\n",
       "      <td>0.000000</td>\n",
       "      <td>0.000000</td>\n",
       "    </tr>\n",
       "    <tr>\n",
       "      <th>25%</th>\n",
       "      <td>17.500000</td>\n",
       "      <td>4.000000</td>\n",
       "      <td>105.000000</td>\n",
       "      <td>75.250000</td>\n",
       "      <td>2223.750000</td>\n",
       "      <td>13.500000</td>\n",
       "      <td>73.000000</td>\n",
       "      <td>0.000000</td>\n",
       "      <td>0.000000</td>\n",
       "      <td>0.000000</td>\n",
       "    </tr>\n",
       "    <tr>\n",
       "      <th>50%</th>\n",
       "      <td>22.200000</td>\n",
       "      <td>4.000000</td>\n",
       "      <td>151.000000</td>\n",
       "      <td>95.000000</td>\n",
       "      <td>2818.500000</td>\n",
       "      <td>15.500000</td>\n",
       "      <td>76.000000</td>\n",
       "      <td>1.000000</td>\n",
       "      <td>0.000000</td>\n",
       "      <td>0.000000</td>\n",
       "    </tr>\n",
       "    <tr>\n",
       "      <th>75%</th>\n",
       "      <td>29.000000</td>\n",
       "      <td>8.000000</td>\n",
       "      <td>265.750000</td>\n",
       "      <td>125.000000</td>\n",
       "      <td>3608.000000</td>\n",
       "      <td>17.000000</td>\n",
       "      <td>79.000000</td>\n",
       "      <td>1.000000</td>\n",
       "      <td>0.000000</td>\n",
       "      <td>0.000000</td>\n",
       "    </tr>\n",
       "    <tr>\n",
       "      <th>max</th>\n",
       "      <td>46.600000</td>\n",
       "      <td>8.000000</td>\n",
       "      <td>455.000000</td>\n",
       "      <td>225.000000</td>\n",
       "      <td>4997.000000</td>\n",
       "      <td>24.600000</td>\n",
       "      <td>82.000000</td>\n",
       "      <td>1.000000</td>\n",
       "      <td>1.000000</td>\n",
       "      <td>1.000000</td>\n",
       "    </tr>\n",
       "  </tbody>\n",
       "</table>\n",
       "</div>"
      ],
      "text/plain": [
       "              mpg   cylinders  displacement          hp       weight  \\\n",
       "count  314.000000  314.000000    314.000000  314.000000   314.000000   \n",
       "mean    23.532166    5.490446    195.472930  104.108280  2972.388535   \n",
       "std      7.951761    1.703662    105.269835   38.153395   844.377092   \n",
       "min      9.000000    3.000000     68.000000   46.000000  1613.000000   \n",
       "25%     17.500000    4.000000    105.000000   75.250000  2223.750000   \n",
       "50%     22.200000    4.000000    151.000000   95.000000  2818.500000   \n",
       "75%     29.000000    8.000000    265.750000  125.000000  3608.000000   \n",
       "max     46.600000    8.000000    455.000000  225.000000  4997.000000   \n",
       "\n",
       "       acceleration  model year         usa      europe       japan  \n",
       "count    314.000000  314.000000  314.000000  314.000000  314.000000  \n",
       "mean      15.509236   76.012739    0.630573    0.178344    0.191083  \n",
       "std        2.797765    3.678775    0.483420    0.383413    0.393782  \n",
       "min        8.000000   70.000000    0.000000    0.000000    0.000000  \n",
       "25%       13.500000   73.000000    0.000000    0.000000    0.000000  \n",
       "50%       15.500000   76.000000    1.000000    0.000000    0.000000  \n",
       "75%       17.000000   79.000000    1.000000    0.000000    0.000000  \n",
       "max       24.600000   82.000000    1.000000    1.000000    1.000000  "
      ]
     },
     "execution_count": 15,
     "metadata": {},
     "output_type": "execute_result"
    }
   ],
   "source": [
    "train_stats = train_data.describe()\n",
    "train_stats\n",
    "# test_stats = test_data.describe()"
   ]
  },
  {
   "cell_type": "code",
   "execution_count": 16,
   "metadata": {},
   "outputs": [
    {
     "data": {
      "text/html": [
       "<div>\n",
       "<style scoped>\n",
       "    .dataframe tbody tr th:only-of-type {\n",
       "        vertical-align: middle;\n",
       "    }\n",
       "\n",
       "    .dataframe tbody tr th {\n",
       "        vertical-align: top;\n",
       "    }\n",
       "\n",
       "    .dataframe thead th {\n",
       "        text-align: right;\n",
       "    }\n",
       "</style>\n",
       "<table border=\"1\" class=\"dataframe\">\n",
       "  <thead>\n",
       "    <tr style=\"text-align: right;\">\n",
       "      <th></th>\n",
       "      <th>mpg</th>\n",
       "      <th>cylinders</th>\n",
       "      <th>displacement</th>\n",
       "      <th>hp</th>\n",
       "      <th>weight</th>\n",
       "      <th>acceleration</th>\n",
       "      <th>model year</th>\n",
       "      <th>usa</th>\n",
       "      <th>europe</th>\n",
       "      <th>japan</th>\n",
       "    </tr>\n",
       "  </thead>\n",
       "  <tbody>\n",
       "    <tr>\n",
       "      <th>count</th>\n",
       "      <td>314.000000</td>\n",
       "      <td>314.000000</td>\n",
       "      <td>314.000000</td>\n",
       "      <td>314.000000</td>\n",
       "      <td>314.000000</td>\n",
       "      <td>314.000000</td>\n",
       "      <td>314.000000</td>\n",
       "      <td>314.000000</td>\n",
       "      <td>314.000000</td>\n",
       "      <td>314.000000</td>\n",
       "    </tr>\n",
       "    <tr>\n",
       "      <th>mean</th>\n",
       "      <td>23.532166</td>\n",
       "      <td>5.490446</td>\n",
       "      <td>195.472930</td>\n",
       "      <td>104.108280</td>\n",
       "      <td>2972.388535</td>\n",
       "      <td>15.509236</td>\n",
       "      <td>76.012739</td>\n",
       "      <td>0.630573</td>\n",
       "      <td>0.178344</td>\n",
       "      <td>0.191083</td>\n",
       "    </tr>\n",
       "    <tr>\n",
       "      <th>std</th>\n",
       "      <td>7.951761</td>\n",
       "      <td>1.703662</td>\n",
       "      <td>105.269835</td>\n",
       "      <td>38.153395</td>\n",
       "      <td>844.377092</td>\n",
       "      <td>2.797765</td>\n",
       "      <td>3.678775</td>\n",
       "      <td>0.483420</td>\n",
       "      <td>0.383413</td>\n",
       "      <td>0.393782</td>\n",
       "    </tr>\n",
       "    <tr>\n",
       "      <th>min</th>\n",
       "      <td>9.000000</td>\n",
       "      <td>3.000000</td>\n",
       "      <td>68.000000</td>\n",
       "      <td>46.000000</td>\n",
       "      <td>1613.000000</td>\n",
       "      <td>8.000000</td>\n",
       "      <td>70.000000</td>\n",
       "      <td>0.000000</td>\n",
       "      <td>0.000000</td>\n",
       "      <td>0.000000</td>\n",
       "    </tr>\n",
       "    <tr>\n",
       "      <th>25%</th>\n",
       "      <td>17.500000</td>\n",
       "      <td>4.000000</td>\n",
       "      <td>105.000000</td>\n",
       "      <td>75.250000</td>\n",
       "      <td>2223.750000</td>\n",
       "      <td>13.500000</td>\n",
       "      <td>73.000000</td>\n",
       "      <td>0.000000</td>\n",
       "      <td>0.000000</td>\n",
       "      <td>0.000000</td>\n",
       "    </tr>\n",
       "    <tr>\n",
       "      <th>50%</th>\n",
       "      <td>22.200000</td>\n",
       "      <td>4.000000</td>\n",
       "      <td>151.000000</td>\n",
       "      <td>95.000000</td>\n",
       "      <td>2818.500000</td>\n",
       "      <td>15.500000</td>\n",
       "      <td>76.000000</td>\n",
       "      <td>1.000000</td>\n",
       "      <td>0.000000</td>\n",
       "      <td>0.000000</td>\n",
       "    </tr>\n",
       "    <tr>\n",
       "      <th>75%</th>\n",
       "      <td>29.000000</td>\n",
       "      <td>8.000000</td>\n",
       "      <td>265.750000</td>\n",
       "      <td>125.000000</td>\n",
       "      <td>3608.000000</td>\n",
       "      <td>17.000000</td>\n",
       "      <td>79.000000</td>\n",
       "      <td>1.000000</td>\n",
       "      <td>0.000000</td>\n",
       "      <td>0.000000</td>\n",
       "    </tr>\n",
       "    <tr>\n",
       "      <th>max</th>\n",
       "      <td>46.600000</td>\n",
       "      <td>8.000000</td>\n",
       "      <td>455.000000</td>\n",
       "      <td>225.000000</td>\n",
       "      <td>4997.000000</td>\n",
       "      <td>24.600000</td>\n",
       "      <td>82.000000</td>\n",
       "      <td>1.000000</td>\n",
       "      <td>1.000000</td>\n",
       "      <td>1.000000</td>\n",
       "    </tr>\n",
       "  </tbody>\n",
       "</table>\n",
       "</div>"
      ],
      "text/plain": [
       "              mpg   cylinders  displacement          hp       weight  \\\n",
       "count  314.000000  314.000000    314.000000  314.000000   314.000000   \n",
       "mean    23.532166    5.490446    195.472930  104.108280  2972.388535   \n",
       "std      7.951761    1.703662    105.269835   38.153395   844.377092   \n",
       "min      9.000000    3.000000     68.000000   46.000000  1613.000000   \n",
       "25%     17.500000    4.000000    105.000000   75.250000  2223.750000   \n",
       "50%     22.200000    4.000000    151.000000   95.000000  2818.500000   \n",
       "75%     29.000000    8.000000    265.750000  125.000000  3608.000000   \n",
       "max     46.600000    8.000000    455.000000  225.000000  4997.000000   \n",
       "\n",
       "       acceleration  model year         usa      europe       japan  \n",
       "count    314.000000  314.000000  314.000000  314.000000  314.000000  \n",
       "mean      15.509236   76.012739    0.630573    0.178344    0.191083  \n",
       "std        2.797765    3.678775    0.483420    0.383413    0.393782  \n",
       "min        8.000000   70.000000    0.000000    0.000000    0.000000  \n",
       "25%       13.500000   73.000000    0.000000    0.000000    0.000000  \n",
       "50%       15.500000   76.000000    1.000000    0.000000    0.000000  \n",
       "75%       17.000000   79.000000    1.000000    0.000000    0.000000  \n",
       "max       24.600000   82.000000    1.000000    1.000000    1.000000  "
      ]
     },
     "execution_count": 16,
     "metadata": {},
     "output_type": "execute_result"
    }
   ],
   "source": [
    "# train_stats.pop('mpg')\n",
    "train_stats"
   ]
  },
  {
   "cell_type": "code",
   "execution_count": 17,
   "metadata": {},
   "outputs": [
    {
     "data": {
      "text/html": [
       "<div>\n",
       "<style scoped>\n",
       "    .dataframe tbody tr th:only-of-type {\n",
       "        vertical-align: middle;\n",
       "    }\n",
       "\n",
       "    .dataframe tbody tr th {\n",
       "        vertical-align: top;\n",
       "    }\n",
       "\n",
       "    .dataframe thead th {\n",
       "        text-align: right;\n",
       "    }\n",
       "</style>\n",
       "<table border=\"1\" class=\"dataframe\">\n",
       "  <thead>\n",
       "    <tr style=\"text-align: right;\">\n",
       "      <th></th>\n",
       "      <th>count</th>\n",
       "      <th>mean</th>\n",
       "      <th>std</th>\n",
       "      <th>min</th>\n",
       "      <th>25%</th>\n",
       "      <th>50%</th>\n",
       "      <th>75%</th>\n",
       "      <th>max</th>\n",
       "    </tr>\n",
       "  </thead>\n",
       "  <tbody>\n",
       "    <tr>\n",
       "      <th>mpg</th>\n",
       "      <td>314.0</td>\n",
       "      <td>23.532166</td>\n",
       "      <td>7.951761</td>\n",
       "      <td>9.0</td>\n",
       "      <td>17.50</td>\n",
       "      <td>22.2</td>\n",
       "      <td>29.00</td>\n",
       "      <td>46.6</td>\n",
       "    </tr>\n",
       "    <tr>\n",
       "      <th>cylinders</th>\n",
       "      <td>314.0</td>\n",
       "      <td>5.490446</td>\n",
       "      <td>1.703662</td>\n",
       "      <td>3.0</td>\n",
       "      <td>4.00</td>\n",
       "      <td>4.0</td>\n",
       "      <td>8.00</td>\n",
       "      <td>8.0</td>\n",
       "    </tr>\n",
       "    <tr>\n",
       "      <th>displacement</th>\n",
       "      <td>314.0</td>\n",
       "      <td>195.472930</td>\n",
       "      <td>105.269835</td>\n",
       "      <td>68.0</td>\n",
       "      <td>105.00</td>\n",
       "      <td>151.0</td>\n",
       "      <td>265.75</td>\n",
       "      <td>455.0</td>\n",
       "    </tr>\n",
       "    <tr>\n",
       "      <th>hp</th>\n",
       "      <td>314.0</td>\n",
       "      <td>104.108280</td>\n",
       "      <td>38.153395</td>\n",
       "      <td>46.0</td>\n",
       "      <td>75.25</td>\n",
       "      <td>95.0</td>\n",
       "      <td>125.00</td>\n",
       "      <td>225.0</td>\n",
       "    </tr>\n",
       "    <tr>\n",
       "      <th>weight</th>\n",
       "      <td>314.0</td>\n",
       "      <td>2972.388535</td>\n",
       "      <td>844.377092</td>\n",
       "      <td>1613.0</td>\n",
       "      <td>2223.75</td>\n",
       "      <td>2818.5</td>\n",
       "      <td>3608.00</td>\n",
       "      <td>4997.0</td>\n",
       "    </tr>\n",
       "    <tr>\n",
       "      <th>acceleration</th>\n",
       "      <td>314.0</td>\n",
       "      <td>15.509236</td>\n",
       "      <td>2.797765</td>\n",
       "      <td>8.0</td>\n",
       "      <td>13.50</td>\n",
       "      <td>15.5</td>\n",
       "      <td>17.00</td>\n",
       "      <td>24.6</td>\n",
       "    </tr>\n",
       "    <tr>\n",
       "      <th>model year</th>\n",
       "      <td>314.0</td>\n",
       "      <td>76.012739</td>\n",
       "      <td>3.678775</td>\n",
       "      <td>70.0</td>\n",
       "      <td>73.00</td>\n",
       "      <td>76.0</td>\n",
       "      <td>79.00</td>\n",
       "      <td>82.0</td>\n",
       "    </tr>\n",
       "    <tr>\n",
       "      <th>usa</th>\n",
       "      <td>314.0</td>\n",
       "      <td>0.630573</td>\n",
       "      <td>0.483420</td>\n",
       "      <td>0.0</td>\n",
       "      <td>0.00</td>\n",
       "      <td>1.0</td>\n",
       "      <td>1.00</td>\n",
       "      <td>1.0</td>\n",
       "    </tr>\n",
       "    <tr>\n",
       "      <th>europe</th>\n",
       "      <td>314.0</td>\n",
       "      <td>0.178344</td>\n",
       "      <td>0.383413</td>\n",
       "      <td>0.0</td>\n",
       "      <td>0.00</td>\n",
       "      <td>0.0</td>\n",
       "      <td>0.00</td>\n",
       "      <td>1.0</td>\n",
       "    </tr>\n",
       "    <tr>\n",
       "      <th>japan</th>\n",
       "      <td>314.0</td>\n",
       "      <td>0.191083</td>\n",
       "      <td>0.393782</td>\n",
       "      <td>0.0</td>\n",
       "      <td>0.00</td>\n",
       "      <td>0.0</td>\n",
       "      <td>0.00</td>\n",
       "      <td>1.0</td>\n",
       "    </tr>\n",
       "  </tbody>\n",
       "</table>\n",
       "</div>"
      ],
      "text/plain": [
       "              count         mean         std     min      25%     50%  \\\n",
       "mpg           314.0    23.532166    7.951761     9.0    17.50    22.2   \n",
       "cylinders     314.0     5.490446    1.703662     3.0     4.00     4.0   \n",
       "displacement  314.0   195.472930  105.269835    68.0   105.00   151.0   \n",
       "hp            314.0   104.108280   38.153395    46.0    75.25    95.0   \n",
       "weight        314.0  2972.388535  844.377092  1613.0  2223.75  2818.5   \n",
       "acceleration  314.0    15.509236    2.797765     8.0    13.50    15.5   \n",
       "model year    314.0    76.012739    3.678775    70.0    73.00    76.0   \n",
       "usa           314.0     0.630573    0.483420     0.0     0.00     1.0   \n",
       "europe        314.0     0.178344    0.383413     0.0     0.00     0.0   \n",
       "japan         314.0     0.191083    0.393782     0.0     0.00     0.0   \n",
       "\n",
       "                  75%     max  \n",
       "mpg             29.00    46.6  \n",
       "cylinders        8.00     8.0  \n",
       "displacement   265.75   455.0  \n",
       "hp             125.00   225.0  \n",
       "weight        3608.00  4997.0  \n",
       "acceleration    17.00    24.6  \n",
       "model year      79.00    82.0  \n",
       "usa              1.00     1.0  \n",
       "europe           0.00     1.0  \n",
       "japan            0.00     1.0  "
      ]
     },
     "execution_count": 17,
     "metadata": {},
     "output_type": "execute_result"
    }
   ],
   "source": [
    "train_stats = train_stats.transpose()\n",
    "train_stats"
   ]
  },
  {
   "cell_type": "code",
   "execution_count": 17,
   "metadata": {},
   "outputs": [],
   "source": [
    "# train_stats.keys()"
   ]
  },
  {
   "cell_type": "markdown",
   "metadata": {},
   "source": [
    "**separate labels from features**"
   ]
  },
  {
   "cell_type": "code",
   "execution_count": null,
   "metadata": {},
   "outputs": [],
   "source": []
  },
  {
   "cell_type": "code",
   "execution_count": 18,
   "metadata": {},
   "outputs": [],
   "source": [
    "# test_labels = test_data.pop('mpg')"
   ]
  },
  {
   "cell_type": "markdown",
   "metadata": {},
   "source": [
    "**Data Normalization**"
   ]
  },
  {
   "cell_type": "code",
   "execution_count": 18,
   "metadata": {},
   "outputs": [
    {
     "data": {
      "text/html": [
       "<div>\n",
       "<style scoped>\n",
       "    .dataframe tbody tr th:only-of-type {\n",
       "        vertical-align: middle;\n",
       "    }\n",
       "\n",
       "    .dataframe tbody tr th {\n",
       "        vertical-align: top;\n",
       "    }\n",
       "\n",
       "    .dataframe thead th {\n",
       "        text-align: right;\n",
       "    }\n",
       "</style>\n",
       "<table border=\"1\" class=\"dataframe\">\n",
       "  <thead>\n",
       "    <tr style=\"text-align: right;\">\n",
       "      <th></th>\n",
       "      <th>mpg</th>\n",
       "      <th>cylinders</th>\n",
       "      <th>displacement</th>\n",
       "      <th>hp</th>\n",
       "      <th>weight</th>\n",
       "      <th>acceleration</th>\n",
       "      <th>model year</th>\n",
       "      <th>usa</th>\n",
       "      <th>europe</th>\n",
       "      <th>japan</th>\n",
       "    </tr>\n",
       "  </thead>\n",
       "  <tbody>\n",
       "    <tr>\n",
       "      <th>82</th>\n",
       "      <td>-0.066924</td>\n",
       "      <td>-0.874848</td>\n",
       "      <td>-0.716947</td>\n",
       "      <td>-0.186308</td>\n",
       "      <td>-0.552346</td>\n",
       "      <td>-0.360729</td>\n",
       "      <td>-1.090781</td>\n",
       "      <td>-1.304400</td>\n",
       "      <td>-0.465148</td>\n",
       "      <td>2.054228</td>\n",
       "    </tr>\n",
       "    <tr>\n",
       "      <th>167</th>\n",
       "      <td>0.687626</td>\n",
       "      <td>-0.874848</td>\n",
       "      <td>-0.935434</td>\n",
       "      <td>-0.762928</td>\n",
       "      <td>-0.949088</td>\n",
       "      <td>0.175413</td>\n",
       "      <td>-0.275292</td>\n",
       "      <td>-1.304400</td>\n",
       "      <td>-0.465148</td>\n",
       "      <td>2.054228</td>\n",
       "    </tr>\n",
       "    <tr>\n",
       "      <th>356</th>\n",
       "      <td>1.115204</td>\n",
       "      <td>-0.874848</td>\n",
       "      <td>-0.830940</td>\n",
       "      <td>-0.762928</td>\n",
       "      <td>-0.737098</td>\n",
       "      <td>0.461356</td>\n",
       "      <td>1.355685</td>\n",
       "      <td>-1.304400</td>\n",
       "      <td>-0.465148</td>\n",
       "      <td>2.054228</td>\n",
       "    </tr>\n",
       "    <tr>\n",
       "      <th>120</th>\n",
       "      <td>-0.569958</td>\n",
       "      <td>-0.874848</td>\n",
       "      <td>-0.707448</td>\n",
       "      <td>0.206842</td>\n",
       "      <td>-0.123628</td>\n",
       "      <td>-0.003301</td>\n",
       "      <td>-0.818952</td>\n",
       "      <td>-1.304400</td>\n",
       "      <td>2.143005</td>\n",
       "      <td>-0.485251</td>\n",
       "    </tr>\n",
       "    <tr>\n",
       "      <th>385</th>\n",
       "      <td>1.819450</td>\n",
       "      <td>-0.874848</td>\n",
       "      <td>-0.992430</td>\n",
       "      <td>-0.972608</td>\n",
       "      <td>-1.157526</td>\n",
       "      <td>0.246899</td>\n",
       "      <td>1.627515</td>\n",
       "      <td>-1.304400</td>\n",
       "      <td>-0.465148</td>\n",
       "      <td>2.054228</td>\n",
       "    </tr>\n",
       "    <tr>\n",
       "      <th>238</th>\n",
       "      <td>1.253538</td>\n",
       "      <td>-0.874848</td>\n",
       "      <td>-0.925934</td>\n",
       "      <td>-0.553248</td>\n",
       "      <td>-1.062782</td>\n",
       "      <td>0.139670</td>\n",
       "      <td>0.268367</td>\n",
       "      <td>0.764194</td>\n",
       "      <td>-0.465148</td>\n",
       "      <td>-0.485251</td>\n",
       "    </tr>\n",
       "  </tbody>\n",
       "</table>\n",
       "</div>"
      ],
      "text/plain": [
       "          mpg  cylinders  displacement        hp    weight  acceleration  \\\n",
       "82  -0.066924  -0.874848     -0.716947 -0.186308 -0.552346     -0.360729   \n",
       "167  0.687626  -0.874848     -0.935434 -0.762928 -0.949088      0.175413   \n",
       "356  1.115204  -0.874848     -0.830940 -0.762928 -0.737098      0.461356   \n",
       "120 -0.569958  -0.874848     -0.707448  0.206842 -0.123628     -0.003301   \n",
       "385  1.819450  -0.874848     -0.992430 -0.972608 -1.157526      0.246899   \n",
       "238  1.253538  -0.874848     -0.925934 -0.553248 -1.062782      0.139670   \n",
       "\n",
       "     model year       usa    europe     japan  \n",
       "82    -1.090781 -1.304400 -0.465148  2.054228  \n",
       "167   -0.275292 -1.304400 -0.465148  2.054228  \n",
       "356    1.355685 -1.304400 -0.465148  2.054228  \n",
       "120   -0.818952 -1.304400  2.143005 -0.485251  \n",
       "385    1.627515 -1.304400 -0.465148  2.054228  \n",
       "238    0.268367  0.764194 -0.465148 -0.485251  "
      ]
     },
     "execution_count": 18,
     "metadata": {},
     "output_type": "execute_result"
    }
   ],
   "source": [
    "def norm(x):\n",
    "    return ((x-train_stats['mean'])/ train_stats['std'])\n",
    "normTrainData = norm(train_data)\n",
    "normTestData = norm(test_data)\n",
    "normTestData.head()\n",
    "normTrainData.head(6) "
   ]
  },
  {
   "cell_type": "code",
   "execution_count": 30,
   "metadata": {},
   "outputs": [
    {
     "data": {
      "text/plain": [
       "10"
      ]
     },
     "execution_count": 30,
     "metadata": {},
     "output_type": "execute_result"
    }
   ],
   "source": [
    "len(train_data.keys())\n"
   ]
  },
  {
   "cell_type": "code",
   "execution_count": 19,
   "metadata": {},
   "outputs": [],
   "source": [
    "def buildModel():\n",
    "    model = keras.Sequential([\n",
    "        layers.Dense(64, activation= 'relu', input_shape = [ len(train_data.keys())]),\n",
    "        layers.Dense(64, activation= 'relu'),\n",
    "        layers.Dense(1)\n",
    "    ])\n",
    "    rmsProp = tf.keras.optimizers.RMSprop(0.001)\n",
    "    model.compile(loss='mse', optimizer = rmsProp, metrics = ['mae', 'mse']) # we may aslo use default RMSProp as optimizer='rms'\n",
    "    return model\n",
    "    "
   ]
  },
  {
   "cell_type": "code",
   "execution_count": 21,
   "metadata": {},
   "outputs": [],
   "source": [
    "model = buildModel()\n"
   ]
  },
  {
   "cell_type": "code",
   "execution_count": 22,
   "metadata": {},
   "outputs": [
    {
     "name": "stdout",
     "output_type": "stream",
     "text": [
      "Model: \"sequential\"\n",
      "_________________________________________________________________\n",
      "Layer (type)                 Output Shape              Param #   \n",
      "=================================================================\n",
      "dense (Dense)                (None, 64)                704       \n",
      "_________________________________________________________________\n",
      "dense_1 (Dense)              (None, 64)                4160      \n",
      "_________________________________________________________________\n",
      "dense_2 (Dense)              (None, 1)                 65        \n",
      "=================================================================\n",
      "Total params: 4,929\n",
      "Trainable params: 4,929\n",
      "Non-trainable params: 0\n",
      "_________________________________________________________________\n"
     ]
    }
   ],
   "source": [
    "modelSum = model.summary()"
   ]
  },
  {
   "cell_type": "markdown",
   "metadata": {},
   "source": [
    "**Time to choose Batch_size** and predict on the trained model"
   ]
  },
  {
   "cell_type": "code",
   "execution_count": 23,
   "metadata": {},
   "outputs": [
    {
     "data": {
      "text/plain": [
       "array([[-0.72301996],\n",
       "       [-0.44283456],\n",
       "       [-0.297962  ],\n",
       "       [ 0.02535206],\n",
       "       [-0.10450649],\n",
       "       [-0.26374665],\n",
       "       [ 0.1767262 ],\n",
       "       [ 0.19479865],\n",
       "       [-0.5164653 ],\n",
       "       [-0.29025882]], dtype=float32)"
      ]
     },
     "execution_count": 23,
     "metadata": {},
     "output_type": "execute_result"
    }
   ],
   "source": [
    "exampleBatch = normTrainData[:10]\n",
    "# exampleBatch\n",
    "exampleResult = model.predict(exampleBatch)\n",
    "exampleResult"
   ]
  },
  {
   "cell_type": "markdown",
   "metadata": {},
   "source": [
    "**Training the model** for epoch: 1000 and ***recording the training and validation accuracy***"
   ]
  },
  {
   "cell_type": "code",
   "execution_count": 24,
   "metadata": {},
   "outputs": [],
   "source": [
    "train_labels = train_data.pop('mpg')"
   ]
  },
  {
   "cell_type": "code",
   "execution_count": 25,
   "metadata": {},
   "outputs": [],
   "source": [
    "test_labels = test_data.pop('mpg')"
   ]
  },
  {
   "cell_type": "code",
   "execution_count": null,
   "metadata": {},
   "outputs": [],
   "source": [
    "class PrintDot(keras.callbacks.Callback):\n",
    "    def on_epoch_end(self, epoch, logs):\n",
    "        if epoch % 100 == 0 : print('')\n",
    "        print('.', end ='')\n",
    "\n",
    "epochs = 1000\n",
    "\n",
    "history = model.fit(\n",
    "    normTrainData, train_labels, epochs = epochs, validation_split = 0.2, verbose = 2, callbacks = [PrintDot()])\n",
    "            "
   ]
  },
  {
   "cell_type": "code",
   "execution_count": 27,
   "metadata": {},
   "outputs": [
    {
     "data": {
      "text/html": [
       "<div>\n",
       "<style scoped>\n",
       "    .dataframe tbody tr th:only-of-type {\n",
       "        vertical-align: middle;\n",
       "    }\n",
       "\n",
       "    .dataframe tbody tr th {\n",
       "        vertical-align: top;\n",
       "    }\n",
       "\n",
       "    .dataframe thead th {\n",
       "        text-align: right;\n",
       "    }\n",
       "</style>\n",
       "<table border=\"1\" class=\"dataframe\">\n",
       "  <thead>\n",
       "    <tr style=\"text-align: right;\">\n",
       "      <th></th>\n",
       "      <th>loss</th>\n",
       "      <th>mae</th>\n",
       "      <th>mse</th>\n",
       "      <th>val_loss</th>\n",
       "      <th>val_mae</th>\n",
       "      <th>val_mse</th>\n",
       "      <th>epoch</th>\n",
       "    </tr>\n",
       "  </thead>\n",
       "  <tbody>\n",
       "    <tr>\n",
       "      <th>995</th>\n",
       "      <td>0.056151</td>\n",
       "      <td>0.177721</td>\n",
       "      <td>0.056151</td>\n",
       "      <td>0.176105</td>\n",
       "      <td>0.332943</td>\n",
       "      <td>0.176105</td>\n",
       "      <td>995</td>\n",
       "    </tr>\n",
       "    <tr>\n",
       "      <th>996</th>\n",
       "      <td>0.053101</td>\n",
       "      <td>0.178489</td>\n",
       "      <td>0.053101</td>\n",
       "      <td>0.116389</td>\n",
       "      <td>0.281456</td>\n",
       "      <td>0.116389</td>\n",
       "      <td>996</td>\n",
       "    </tr>\n",
       "    <tr>\n",
       "      <th>997</th>\n",
       "      <td>0.072772</td>\n",
       "      <td>0.228511</td>\n",
       "      <td>0.072772</td>\n",
       "      <td>0.158055</td>\n",
       "      <td>0.318041</td>\n",
       "      <td>0.158055</td>\n",
       "      <td>997</td>\n",
       "    </tr>\n",
       "    <tr>\n",
       "      <th>998</th>\n",
       "      <td>0.109899</td>\n",
       "      <td>0.284651</td>\n",
       "      <td>0.109899</td>\n",
       "      <td>0.127408</td>\n",
       "      <td>0.268248</td>\n",
       "      <td>0.127408</td>\n",
       "      <td>998</td>\n",
       "    </tr>\n",
       "    <tr>\n",
       "      <th>999</th>\n",
       "      <td>0.048112</td>\n",
       "      <td>0.191766</td>\n",
       "      <td>0.048112</td>\n",
       "      <td>0.129935</td>\n",
       "      <td>0.269626</td>\n",
       "      <td>0.129935</td>\n",
       "      <td>999</td>\n",
       "    </tr>\n",
       "  </tbody>\n",
       "</table>\n",
       "</div>"
      ],
      "text/plain": [
       "         loss       mae       mse  val_loss   val_mae   val_mse  epoch\n",
       "995  0.056151  0.177721  0.056151  0.176105  0.332943  0.176105    995\n",
       "996  0.053101  0.178489  0.053101  0.116389  0.281456  0.116389    996\n",
       "997  0.072772  0.228511  0.072772  0.158055  0.318041  0.158055    997\n",
       "998  0.109899  0.284651  0.109899  0.127408  0.268248  0.127408    998\n",
       "999  0.048112  0.191766  0.048112  0.129935  0.269626  0.129935    999"
      ]
     },
     "execution_count": 27,
     "metadata": {},
     "output_type": "execute_result"
    }
   ],
   "source": [
    "hist = pd.DataFrame(history.history)\n",
    "hist['epoch'] = history.epoch\n",
    "hist.tail()"
   ]
  },
  {
   "cell_type": "code",
   "execution_count": 28,
   "metadata": {},
   "outputs": [
    {
     "data": {
      "image/png": "[encoded data removed]",
      "text/plain": [
       "<Figure size 432x288 with 1 Axes>"
      ]
     },
     "metadata": {
      "needs_background": "light"
     },
     "output_type": "display_data"
    },
    {
     "data": {
      "image/png": "[encoded data removed]",
      "text/plain": [
       "<Figure size 432x288 with 1 Axes>"
      ]
     },
     "metadata": {
      "needs_background": "light"
     },
     "output_type": "display_data"
    }
   ],
   "source": [
    "def plotHistory(history):\n",
    "    hist = pd.DataFrame(history.history)\n",
    "    hist['epoch'] = history.epoch\n",
    "    \n",
    "    plt.figure()\n",
    "    plt.xlabel('Epoch')\n",
    "    plt.ylabel('Mean Abs Error [MPG]')\n",
    "    plt.plot(hist['epoch'], hist['mae'],\n",
    "           label='Train Error')\n",
    "    plt.plot(hist['epoch'], hist['val_mae'],\n",
    "           label = 'Val Error')\n",
    "    plt.ylim([0,5])\n",
    "    plt.legend()\n",
    "   \n",
    "\n",
    "    plt.figure()\n",
    "    plt.xlabel('Epoch')\n",
    "    plt.ylabel('Mean Square Error [$MPG^2$]')\n",
    "    plt.plot(hist['epoch'], hist['mse'],\n",
    "           label='Train Error')\n",
    "    plt.plot(hist['epoch'], hist['val_mse'],\n",
    "           label = 'Val Error')\n",
    "    plt.ylim([0,20])\n",
    "    plt.legend()\n",
    "    plt.show()\n",
    "    \n",
    "    \n",
    "plotHistory(history)    "
   ]
  },
  {
   "cell_type": "code",
   "execution_count": 31,
   "metadata": {},
   "outputs": [
    {
     "name": "stdout",
     "output_type": "stream",
     "text": [
      "\n",
      "....................................................................................................\n",
      "........................"
     ]
    },
    {
     "data": {
      "image/png": "[encoded data removed]",
      "text/plain": [
       "<Figure size 432x288 with 1 Axes>"
      ]
     },
     "metadata": {
      "needs_background": "light"
     },
     "output_type": "display_data"
    },
    {
     "data": {
      "image/png": "[encoded data removed]",
      "text/plain": [
       "<Figure size 432x288 with 1 Axes>"
      ]
     },
     "metadata": {
      "needs_background": "light"
     },
     "output_type": "display_data"
    }
   ],
   "source": [
    "model = buildModel()\n",
    "\n",
    "early_stop = keras.callbacks.EarlyStopping(monitor = 'val_loss', patience = 10)\n",
    "\n",
    "history = model.fit(normTrainData, train_labels, epochs = 1000, validation_split= 0.2, verbose = 0, callbacks = [early_stop, PrintDot()])\n",
    "\n",
    "plotHistory(history)\n",
    "# len(train_data.keys())\n"
   ]
  },
  {
   "cell_type": "code",
   "execution_count": 32,
   "metadata": {},
   "outputs": [
    {
     "data": {
      "text/html": [
       "<div>\n",
       "<style scoped>\n",
       "    .dataframe tbody tr th:only-of-type {\n",
       "        vertical-align: middle;\n",
       "    }\n",
       "\n",
       "    .dataframe tbody tr th {\n",
       "        vertical-align: top;\n",
       "    }\n",
       "\n",
       "    .dataframe thead th {\n",
       "        text-align: right;\n",
       "    }\n",
       "</style>\n",
       "<table border=\"1\" class=\"dataframe\">\n",
       "  <thead>\n",
       "    <tr style=\"text-align: right;\">\n",
       "      <th></th>\n",
       "      <th>loss</th>\n",
       "      <th>mae</th>\n",
       "      <th>mse</th>\n",
       "      <th>val_loss</th>\n",
       "      <th>val_mae</th>\n",
       "      <th>val_mse</th>\n",
       "    </tr>\n",
       "  </thead>\n",
       "  <tbody>\n",
       "    <tr>\n",
       "      <th>119</th>\n",
       "      <td>0.128297</td>\n",
       "      <td>0.287952</td>\n",
       "      <td>0.128297</td>\n",
       "      <td>0.467606</td>\n",
       "      <td>0.532681</td>\n",
       "      <td>0.467606</td>\n",
       "    </tr>\n",
       "    <tr>\n",
       "      <th>120</th>\n",
       "      <td>0.152659</td>\n",
       "      <td>0.319195</td>\n",
       "      <td>0.152659</td>\n",
       "      <td>0.142608</td>\n",
       "      <td>0.299155</td>\n",
       "      <td>0.142608</td>\n",
       "    </tr>\n",
       "    <tr>\n",
       "      <th>121</th>\n",
       "      <td>0.129396</td>\n",
       "      <td>0.269385</td>\n",
       "      <td>0.129396</td>\n",
       "      <td>0.281209</td>\n",
       "      <td>0.410848</td>\n",
       "      <td>0.281209</td>\n",
       "    </tr>\n",
       "    <tr>\n",
       "      <th>122</th>\n",
       "      <td>0.145299</td>\n",
       "      <td>0.305507</td>\n",
       "      <td>0.145299</td>\n",
       "      <td>0.136403</td>\n",
       "      <td>0.284880</td>\n",
       "      <td>0.136403</td>\n",
       "    </tr>\n",
       "    <tr>\n",
       "      <th>123</th>\n",
       "      <td>0.083440</td>\n",
       "      <td>0.221539</td>\n",
       "      <td>0.083440</td>\n",
       "      <td>0.334216</td>\n",
       "      <td>0.516547</td>\n",
       "      <td>0.334216</td>\n",
       "    </tr>\n",
       "  </tbody>\n",
       "</table>\n",
       "</div>"
      ],
      "text/plain": [
       "         loss       mae       mse  val_loss   val_mae   val_mse\n",
       "119  0.128297  0.287952  0.128297  0.467606  0.532681  0.467606\n",
       "120  0.152659  0.319195  0.152659  0.142608  0.299155  0.142608\n",
       "121  0.129396  0.269385  0.129396  0.281209  0.410848  0.281209\n",
       "122  0.145299  0.305507  0.145299  0.136403  0.284880  0.136403\n",
       "123  0.083440  0.221539  0.083440  0.334216  0.516547  0.334216"
      ]
     },
     "execution_count": 32,
     "metadata": {},
     "output_type": "execute_result"
    }
   ],
   "source": [
    "hist = pd.DataFrame(history.history)\n",
    "hist.tail(5)"
   ]
  },
  {
   "cell_type": "code",
   "execution_count": 33,
   "metadata": {},
   "outputs": [
    {
     "data": {
      "text/html": [
       "<div>\n",
       "<style scoped>\n",
       "    .dataframe tbody tr th:only-of-type {\n",
       "        vertical-align: middle;\n",
       "    }\n",
       "\n",
       "    .dataframe tbody tr th {\n",
       "        vertical-align: top;\n",
       "    }\n",
       "\n",
       "    .dataframe thead th {\n",
       "        text-align: right;\n",
       "    }\n",
       "</style>\n",
       "<table border=\"1\" class=\"dataframe\">\n",
       "  <thead>\n",
       "    <tr style=\"text-align: right;\">\n",
       "      <th></th>\n",
       "      <th>loss</th>\n",
       "      <th>mae</th>\n",
       "      <th>mse</th>\n",
       "      <th>val_loss</th>\n",
       "      <th>val_mae</th>\n",
       "      <th>val_mse</th>\n",
       "    </tr>\n",
       "  </thead>\n",
       "  <tbody>\n",
       "    <tr>\n",
       "      <th>0</th>\n",
       "      <td>526.748783</td>\n",
       "      <td>21.711681</td>\n",
       "      <td>526.748779</td>\n",
       "      <td>518.407824</td>\n",
       "      <td>21.759308</td>\n",
       "      <td>518.407837</td>\n",
       "    </tr>\n",
       "    <tr>\n",
       "      <th>1</th>\n",
       "      <td>449.046775</td>\n",
       "      <td>19.983437</td>\n",
       "      <td>449.046753</td>\n",
       "      <td>442.085401</td>\n",
       "      <td>20.059105</td>\n",
       "      <td>442.085388</td>\n",
       "    </tr>\n",
       "    <tr>\n",
       "      <th>2</th>\n",
       "      <td>373.914328</td>\n",
       "      <td>18.143780</td>\n",
       "      <td>373.914307</td>\n",
       "      <td>362.456404</td>\n",
       "      <td>18.113935</td>\n",
       "      <td>362.456421</td>\n",
       "    </tr>\n",
       "    <tr>\n",
       "      <th>3</th>\n",
       "      <td>297.302515</td>\n",
       "      <td>16.077049</td>\n",
       "      <td>297.302521</td>\n",
       "      <td>282.304432</td>\n",
       "      <td>15.887615</td>\n",
       "      <td>282.304443</td>\n",
       "    </tr>\n",
       "    <tr>\n",
       "      <th>4</th>\n",
       "      <td>225.051230</td>\n",
       "      <td>13.774675</td>\n",
       "      <td>225.051224</td>\n",
       "      <td>210.050473</td>\n",
       "      <td>13.527054</td>\n",
       "      <td>210.050476</td>\n",
       "    </tr>\n",
       "  </tbody>\n",
       "</table>\n",
       "</div>"
      ],
      "text/plain": [
       "         loss        mae         mse    val_loss    val_mae     val_mse\n",
       "0  526.748783  21.711681  526.748779  518.407824  21.759308  518.407837\n",
       "1  449.046775  19.983437  449.046753  442.085401  20.059105  442.085388\n",
       "2  373.914328  18.143780  373.914307  362.456404  18.113935  362.456421\n",
       "3  297.302515  16.077049  297.302521  282.304432  15.887615  282.304443\n",
       "4  225.051230  13.774675  225.051224  210.050473  13.527054  210.050476"
      ]
     },
     "execution_count": 33,
     "metadata": {},
     "output_type": "execute_result"
    }
   ],
   "source": [
    "hist.head(5)"
   ]
  },
  {
   "cell_type": "code",
   "execution_count": 34,
   "metadata": {},
   "outputs": [
    {
     "data": {
      "text/html": [
       "<div>\n",
       "<style scoped>\n",
       "    .dataframe tbody tr th:only-of-type {\n",
       "        vertical-align: middle;\n",
       "    }\n",
       "\n",
       "    .dataframe tbody tr th {\n",
       "        vertical-align: top;\n",
       "    }\n",
       "\n",
       "    .dataframe thead th {\n",
       "        text-align: right;\n",
       "    }\n",
       "</style>\n",
       "<table border=\"1\" class=\"dataframe\">\n",
       "  <thead>\n",
       "    <tr style=\"text-align: right;\">\n",
       "      <th></th>\n",
       "      <th>mpg</th>\n",
       "      <th>cylinders</th>\n",
       "      <th>displacement</th>\n",
       "      <th>hp</th>\n",
       "      <th>weight</th>\n",
       "      <th>acceleration</th>\n",
       "      <th>model year</th>\n",
       "      <th>usa</th>\n",
       "      <th>europe</th>\n",
       "      <th>japan</th>\n",
       "    </tr>\n",
       "  </thead>\n",
       "  <tbody>\n",
       "    <tr>\n",
       "      <th>1</th>\n",
       "      <td>-1.072991</td>\n",
       "      <td>1.473035</td>\n",
       "      <td>1.467914</td>\n",
       "      <td>1.595971</td>\n",
       "      <td>0.853424</td>\n",
       "      <td>-1.433014</td>\n",
       "      <td>-1.634441</td>\n",
       "      <td>0.764194</td>\n",
       "      <td>-0.465148</td>\n",
       "      <td>-0.485251</td>\n",
       "    </tr>\n",
       "    <tr>\n",
       "      <th>3</th>\n",
       "      <td>-0.947232</td>\n",
       "      <td>1.473035</td>\n",
       "      <td>1.030942</td>\n",
       "      <td>1.202821</td>\n",
       "      <td>0.545504</td>\n",
       "      <td>-1.254300</td>\n",
       "      <td>-1.634441</td>\n",
       "      <td>0.764194</td>\n",
       "      <td>-0.465148</td>\n",
       "      <td>-0.485251</td>\n",
       "    </tr>\n",
       "  </tbody>\n",
       "</table>\n",
       "</div>"
      ],
      "text/plain": [
       "        mpg  cylinders  displacement        hp    weight  acceleration  \\\n",
       "1 -1.072991   1.473035      1.467914  1.595971  0.853424     -1.433014   \n",
       "3 -0.947232   1.473035      1.030942  1.202821  0.545504     -1.254300   \n",
       "\n",
       "   model year       usa    europe     japan  \n",
       "1   -1.634441  0.764194 -0.465148 -0.485251  \n",
       "3   -1.634441  0.764194 -0.465148 -0.485251  "
      ]
     },
     "execution_count": 34,
     "metadata": {},
     "output_type": "execute_result"
    }
   ],
   "source": [
    "normTestData.head(2)\n"
   ]
  },
  {
   "cell_type": "code",
   "execution_count": 37,
   "metadata": {},
   "outputs": [
    {
     "name": "stdout",
     "output_type": "stream",
     "text": [
      "Testing set Mean Abs Error: 0.53 MPG\n"
     ]
    }
   ],
   "source": [
    "loss, mae, mse = model.evaluate(normTestData, test_labels, verbose=0)\n",
    "print(\"Testing set Mean Abs Error:{:5.2f} MPG\".format(mae))"
   ]
  },
  {
   "cell_type": "markdown",
   "metadata": {},
   "source": [
    "**PREDICTING MPG value using the data in the training set**"
   ]
  },
  {
   "cell_type": "code",
   "execution_count": 38,
   "metadata": {},
   "outputs": [
    {
     "data": {
      "text/plain": [
       "array([14.204043, 15.597344, 13.906345, 21.38696 , 24.767593, 10.137557,\n",
       "        9.823495, 28.050905, 13.545941, 12.952419, 27.306936, 29.50692 ,\n",
       "       13.501185, 11.729968, 14.752236, 13.247109, 13.586964, 21.512913,\n",
       "       26.270325, 12.663417, 13.871132, 12.658852, 21.270882, 15.734702,\n",
       "       23.430977, 15.182279, 31.07452 , 17.500856, 13.867932, 25.478878,\n",
       "       31.191746, 27.723736, 16.128963, 14.494575, 15.421578, 22.248653,\n",
       "       24.459166, 28.186855, 32.208977, 27.138477, 15.589139, 29.325182,\n",
       "       34.65457 , 18.447666, 30.031887, 29.150902, 21.82381 , 21.022148,\n",
       "       35.862175, 19.88125 , 20.174799, 19.2529  , 29.43069 , 26.661964,\n",
       "       26.20249 , 30.671837, 19.464783, 22.14795 , 19.82132 , 20.098705,\n",
       "       15.301583, 26.132093, 37.37267 , 24.43136 , 29.101583, 30.672031,\n",
       "       31.35014 , 32.99623 , 25.92278 , 25.113735, 32.794514, 31.85879 ,\n",
       "       23.703968, 27.670828, 26.6402  , 26.49765 , 23.809046, 25.410912],\n",
       "      dtype=float32)"
      ]
     },
     "execution_count": 38,
     "metadata": {},
     "output_type": "execute_result"
    }
   ],
   "source": [
    "testPred = model.predict(normTestData).flatten()\n",
    "testPred"
   ]
  },
  {
   "cell_type": "code",
   "execution_count": 39,
   "metadata": {},
   "outputs": [],
   "source": [
    "# # plot = sns.pairplot(test_labels, testPred)\n",
    "plotData = pd.DataFrame(test_labels)\n",
    "plotData['predData'] = testPred\n",
    "plotData.columns = ['actualData', 'predData']\n"
   ]
  },
  {
   "cell_type": "code",
   "execution_count": 40,
   "metadata": {},
   "outputs": [],
   "source": [
    "# plotting using seaborn's function\n",
    "sns.set(color_codes=True)"
   ]
  },
  {
   "cell_type": "code",
   "execution_count": 41,
   "metadata": {},
   "outputs": [
    {
     "data": {
      "text/plain": [
       "<seaborn.axisgrid.FacetGrid at 0x7f029c09a080>"
      ]
     },
     "execution_count": 41,
     "metadata": {},
     "output_type": "execute_result"
    },
    {
     "data": {
      "image/png": "[encoded data removed]",
      "text/plain": [
       "<Figure size 360x360 with 1 Axes>"
      ]
     },
     "metadata": {},
     "output_type": "display_data"
    }
   ],
   "source": [
    "sns.lmplot(x= \"actualData\", y = \"predData\", data = plotData)"
   ]
  },
  {
   "cell_type": "code",
   "execution_count": 42,
   "metadata": {},
   "outputs": [
    {
     "data": {
      "text/plain": [
       "<seaborn.axisgrid.JointGrid at 0x7f029c0ac780>"
      ]
     },
     "execution_count": 42,
     "metadata": {},
     "output_type": "execute_result"
    },
    {
     "data": {
      "image/png": "[encoded data removed]",
      "text/plain": [
       "<Figure size 432x432 with 3 Axes>"
      ]
     },
     "metadata": {},
     "output_type": "display_data"
    }
   ],
   "source": [
    "sns.jointplot(x = 'actualData', y = 'predData', data = plotData, kind = 'reg')"
   ]
  },
  {
   "cell_type": "code",
   "execution_count": 123,
   "metadata": {},
   "outputs": [
    {
     "data": {
      "text/plain": [
       "<matplotlib.collections.PathCollection at 0x7f60545a0208>"
      ]
     },
     "execution_count": 123,
     "metadata": {},
     "output_type": "execute_result"
    },
    {
     "data": {
      "image/png": "[encoded data removed]",
      "text/plain": [
       "<Figure size 432x288 with 1 Axes>"
      ]
     },
     "metadata": {},
     "output_type": "display_data"
    }
   ],
   "source": [
    "# plt.plot(x, y=\"actualData\",'bo')\n",
    "# plt.plot(x, y=\"predData\", 'ro')\n",
    "# plt.xlabel(\"Actual Value [MPG]\")\n",
    "# plt.ylabel(\"Predicted Value [MPG]\")\n",
    "# plt.axis(\"equal\")\n",
    "# plt.show()\n",
    "plt.scatter('actualData', 'predData', data=plotData)"
   ]
  },
  {
   "cell_type": "code",
   "execution_count": 44,
   "metadata": {},
   "outputs": [
    {
     "data": {
      "text/plain": [
       "Text(0, 0.5, 'Count')"
      ]
     },
     "execution_count": 44,
     "metadata": {},
     "output_type": "execute_result"
    },
    {
     "data": {
      "image/png": "[encoded data removed]",
      "text/plain": [
       "<Figure size 432x288 with 1 Axes>"
      ]
     },
     "metadata": {},
     "output_type": "display_data"
    }
   ],
   "source": [
    "error = testPred - test_labels\n",
    "plt.hist(error, bins=25)\n",
    "plt.xlabel(\"Prediciton Error[MPG]\")\n",
    "plt.ylabel(\"Count\")"
   ]
  },
  {
   "cell_type": "code",
   "execution_count": null,
   "metadata": {},
   "outputs": [],
   "source": []
  }
 ],
 "metadata": {
  "kernelspec": {
   "display_name": "Python 3",
   "language": "python",
   "name": "python3"
  },
  "language_info": {
   "codemirror_mode": {
    "name": "ipython",
    "version": 3
   },
   "file_extension": ".py",
   "mimetype": "text/x-python",
   "name": "python",
   "nbconvert_exporter": "python",
   "pygments_lexer": "ipython3",
   "version": "3.6.8"
  }
 },
 "nbformat": 4,
 "nbformat_minor": 2
}
