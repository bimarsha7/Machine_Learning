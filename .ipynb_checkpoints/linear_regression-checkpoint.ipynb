{
 "cells": [
  {
   "cell_type": "code",
   "execution_count": null,
   "metadata": {},
   "outputs": [],
   "source": [
    "from __future__ import absolute_import, division, print_function, unicode_literals\n",
    "import pathlib\n",
    "\n",
    "import tensorflow as tf\n",
    "from tensorflow import keras\n",
    "from tensorflow.keras import layers\n",
    "print(tf.__version__)"
   ]
  },
  {
   "cell_type": "code",
   "execution_count": null,
   "metadata": {},
   "outputs": [],
   "source": [
    "#import numpy as np\n",
    "#import scipy as sp\n",
    "import pandas as pd\n",
    "import matplotlib.pyplot as plt\n",
    "import statsmodels.api as sm\n",
    "import seaborn as sns"
   ]
  },
  {
   "cell_type": "code",
   "execution_count": null,
   "metadata": {},
   "outputs": [],
   "source": [
    "dataPath = keras.utils.get_file(\"auto-mpg.data\", \"http://archive.ics.uci.edu/ml/machine-learning-databases/auto-mpg/auto-mpg.data\")\n",
    "dataPath\n"
   ]
  },
  {
   "cell_type": "code",
   "execution_count": null,
   "metadata": {},
   "outputs": [],
   "source": [
    "columnNames = ['mpg', 'cylinders', 'displacement', 'hp', 'weight', 'acceleration', 'model year', 'origin']\n",
    "rawData = pd.read_csv('/home/bmrs/.keras/datasets/auto-mpg.data', names= columnNames, na_values=\"?\", comment='\\t', sep=\" \", skipinitialspace=True)\n",
    "rawData.head(10)"
   ]
  },
  {
   "cell_type": "code",
   "execution_count": null,
   "metadata": {},
   "outputs": [],
   "source": [
    "dataset = rawData.copy()\n",
    "dataset.tail()"
   ]
  },
  {
   "cell_type": "code",
   "execution_count": null,
   "metadata": {},
   "outputs": [],
   "source": [
    "dataset.isna().sum()"
   ]
  },
  {
   "cell_type": "code",
   "execution_count": null,
   "metadata": {},
   "outputs": [],
   "source": [
    "dataset = dataset.dropna() # removes 6 records containg NA value of attribute 'hp'"
   ]
  },
  {
   "cell_type": "markdown",
   "metadata": {},
   "source": [
    "..alternate"
   ]
  },
  {
   "cell_type": "markdown",
   "metadata": {},
   "source": [
    "**we could repalce NA with mean/median values as well**\n"
   ]
  },
  {
   "cell_type": "code",
   "execution_count": null,
   "metadata": {},
   "outputs": [],
   "source": [
    "dataset2 = rawData.copy()\n",
    "dataset2.isna().sum()\n",
    "\n",
    "values = {'hp': '104.469388'} #mean for column hp = 104.469388\n",
    "dataset2 = dataset2.fillna(value = values)\n",
    "\n",
    "dataset2.isna().sum()"
   ]
  },
  {
   "cell_type": "markdown",
   "metadata": {},
   "source": [
    "..contd "
   ]
  },
  {
   "cell_type": "code",
   "execution_count": null,
   "metadata": {},
   "outputs": [],
   "source": [
    "dataset.tail()"
   ]
  },
  {
   "cell_type": "markdown",
   "metadata": {},
   "source": [
    "the 'Origin' attribute is actually categorical not numerical so we change it to different attributes containing bool values. like USA = 1/0 , Japan = 1/0"
   ]
  },
  {
   "cell_type": "code",
   "execution_count": null,
   "metadata": {},
   "outputs": [],
   "source": [
    "origin = dataset.pop('origin')"
   ]
  },
  {
   "cell_type": "code",
   "execution_count": null,
   "metadata": {},
   "outputs": [],
   "source": [
    "dataset['usa'] = (origin == 1) * 1.0\n",
    "dataset['europe'] = (origin == 2) * 1.0\n",
    "dataset['japan'] = (origin == 3) * 1.0"
   ]
  },
  {
   "cell_type": "markdown",
   "metadata": {},
   "source": [
    "#dataset.head(10)\n",
    "\n",
    "**Creating training data set and testing data set**"
   ]
  },
  {
   "cell_type": "code",
   "execution_count": 84,
   "metadata": {},
   "outputs": [
    {
     "data": {
      "text/plain": [
       "10"
      ]
     },
     "execution_count": 84,
     "metadata": {},
     "output_type": "execute_result"
    }
   ],
   "source": [
    "train_data = dataset.sample(frac = 0.8, random_state = 1 )\n",
    "\n",
    "test_data = dataset.drop(train_data.index)\n",
    "# print(test_data)\n",
    "# train_data.iloc[0:5] integer based indexing\n",
    "# train_data.iat[0, 1] particular value is extracted\n",
    "len(train_data.keys())"
   ]
  },
  {
   "cell_type": "code",
   "execution_count": null,
   "metadata": {},
   "outputs": [],
   "source": [
    "sns.pairplot(train_data[['mpg', 'cylinders', 'displacement', 'weight']], diag_kind = 'kde')"
   ]
  },
  {
   "cell_type": "code",
   "execution_count": 85,
   "metadata": {},
   "outputs": [
    {
     "data": {
      "text/html": [
       "<div>\n",
       "<style scoped>\n",
       "    .dataframe tbody tr th:only-of-type {\n",
       "        vertical-align: middle;\n",
       "    }\n",
       "\n",
       "    .dataframe tbody tr th {\n",
       "        vertical-align: top;\n",
       "    }\n",
       "\n",
       "    .dataframe thead th {\n",
       "        text-align: right;\n",
       "    }\n",
       "</style>\n",
       "<table border=\"1\" class=\"dataframe\">\n",
       "  <thead>\n",
       "    <tr style=\"text-align: right;\">\n",
       "      <th></th>\n",
       "      <th>mpg</th>\n",
       "      <th>cylinders</th>\n",
       "      <th>displacement</th>\n",
       "      <th>hp</th>\n",
       "      <th>weight</th>\n",
       "      <th>acceleration</th>\n",
       "      <th>model year</th>\n",
       "      <th>usa</th>\n",
       "      <th>europe</th>\n",
       "      <th>japan</th>\n",
       "    </tr>\n",
       "  </thead>\n",
       "  <tbody>\n",
       "    <tr>\n",
       "      <th>count</th>\n",
       "      <td>314.000000</td>\n",
       "      <td>314.000000</td>\n",
       "      <td>314.000000</td>\n",
       "      <td>314.000000</td>\n",
       "      <td>314.000000</td>\n",
       "      <td>314.000000</td>\n",
       "      <td>314.000000</td>\n",
       "      <td>314.000000</td>\n",
       "      <td>314.000000</td>\n",
       "      <td>314.000000</td>\n",
       "    </tr>\n",
       "    <tr>\n",
       "      <th>mean</th>\n",
       "      <td>23.532166</td>\n",
       "      <td>5.490446</td>\n",
       "      <td>195.472930</td>\n",
       "      <td>104.108280</td>\n",
       "      <td>2972.388535</td>\n",
       "      <td>15.509236</td>\n",
       "      <td>76.012739</td>\n",
       "      <td>0.630573</td>\n",
       "      <td>0.178344</td>\n",
       "      <td>0.191083</td>\n",
       "    </tr>\n",
       "    <tr>\n",
       "      <th>std</th>\n",
       "      <td>7.951761</td>\n",
       "      <td>1.703662</td>\n",
       "      <td>105.269835</td>\n",
       "      <td>38.153395</td>\n",
       "      <td>844.377092</td>\n",
       "      <td>2.797765</td>\n",
       "      <td>3.678775</td>\n",
       "      <td>0.483420</td>\n",
       "      <td>0.383413</td>\n",
       "      <td>0.393782</td>\n",
       "    </tr>\n",
       "    <tr>\n",
       "      <th>min</th>\n",
       "      <td>9.000000</td>\n",
       "      <td>3.000000</td>\n",
       "      <td>68.000000</td>\n",
       "      <td>46.000000</td>\n",
       "      <td>1613.000000</td>\n",
       "      <td>8.000000</td>\n",
       "      <td>70.000000</td>\n",
       "      <td>0.000000</td>\n",
       "      <td>0.000000</td>\n",
       "      <td>0.000000</td>\n",
       "    </tr>\n",
       "    <tr>\n",
       "      <th>25%</th>\n",
       "      <td>17.500000</td>\n",
       "      <td>4.000000</td>\n",
       "      <td>105.000000</td>\n",
       "      <td>75.250000</td>\n",
       "      <td>2223.750000</td>\n",
       "      <td>13.500000</td>\n",
       "      <td>73.000000</td>\n",
       "      <td>0.000000</td>\n",
       "      <td>0.000000</td>\n",
       "      <td>0.000000</td>\n",
       "    </tr>\n",
       "    <tr>\n",
       "      <th>50%</th>\n",
       "      <td>22.200000</td>\n",
       "      <td>4.000000</td>\n",
       "      <td>151.000000</td>\n",
       "      <td>95.000000</td>\n",
       "      <td>2818.500000</td>\n",
       "      <td>15.500000</td>\n",
       "      <td>76.000000</td>\n",
       "      <td>1.000000</td>\n",
       "      <td>0.000000</td>\n",
       "      <td>0.000000</td>\n",
       "    </tr>\n",
       "    <tr>\n",
       "      <th>75%</th>\n",
       "      <td>29.000000</td>\n",
       "      <td>8.000000</td>\n",
       "      <td>265.750000</td>\n",
       "      <td>125.000000</td>\n",
       "      <td>3608.000000</td>\n",
       "      <td>17.000000</td>\n",
       "      <td>79.000000</td>\n",
       "      <td>1.000000</td>\n",
       "      <td>0.000000</td>\n",
       "      <td>0.000000</td>\n",
       "    </tr>\n",
       "    <tr>\n",
       "      <th>max</th>\n",
       "      <td>46.600000</td>\n",
       "      <td>8.000000</td>\n",
       "      <td>455.000000</td>\n",
       "      <td>225.000000</td>\n",
       "      <td>4997.000000</td>\n",
       "      <td>24.600000</td>\n",
       "      <td>82.000000</td>\n",
       "      <td>1.000000</td>\n",
       "      <td>1.000000</td>\n",
       "      <td>1.000000</td>\n",
       "    </tr>\n",
       "  </tbody>\n",
       "</table>\n",
       "</div>"
      ],
      "text/plain": [
       "              mpg   cylinders  displacement          hp       weight  \\\n",
       "count  314.000000  314.000000    314.000000  314.000000   314.000000   \n",
       "mean    23.532166    5.490446    195.472930  104.108280  2972.388535   \n",
       "std      7.951761    1.703662    105.269835   38.153395   844.377092   \n",
       "min      9.000000    3.000000     68.000000   46.000000  1613.000000   \n",
       "25%     17.500000    4.000000    105.000000   75.250000  2223.750000   \n",
       "50%     22.200000    4.000000    151.000000   95.000000  2818.500000   \n",
       "75%     29.000000    8.000000    265.750000  125.000000  3608.000000   \n",
       "max     46.600000    8.000000    455.000000  225.000000  4997.000000   \n",
       "\n",
       "       acceleration  model year         usa      europe       japan  \n",
       "count    314.000000  314.000000  314.000000  314.000000  314.000000  \n",
       "mean      15.509236   76.012739    0.630573    0.178344    0.191083  \n",
       "std        2.797765    3.678775    0.483420    0.383413    0.393782  \n",
       "min        8.000000   70.000000    0.000000    0.000000    0.000000  \n",
       "25%       13.500000   73.000000    0.000000    0.000000    0.000000  \n",
       "50%       15.500000   76.000000    1.000000    0.000000    0.000000  \n",
       "75%       17.000000   79.000000    1.000000    0.000000    0.000000  \n",
       "max       24.600000   82.000000    1.000000    1.000000    1.000000  "
      ]
     },
     "execution_count": 85,
     "metadata": {},
     "output_type": "execute_result"
    }
   ],
   "source": [
    "train_stats = train_data.describe()\n",
    "train_stats\n",
    "# test_stats = test_data.describe()"
   ]
  },
  {
   "cell_type": "code",
   "execution_count": 74,
   "metadata": {},
   "outputs": [
    {
     "data": {
      "text/html": [
       "<div>\n",
       "<style scoped>\n",
       "    .dataframe tbody tr th:only-of-type {\n",
       "        vertical-align: middle;\n",
       "    }\n",
       "\n",
       "    .dataframe tbody tr th {\n",
       "        vertical-align: top;\n",
       "    }\n",
       "\n",
       "    .dataframe thead th {\n",
       "        text-align: right;\n",
       "    }\n",
       "</style>\n",
       "<table border=\"1\" class=\"dataframe\">\n",
       "  <thead>\n",
       "    <tr style=\"text-align: right;\">\n",
       "      <th></th>\n",
       "      <th>mpg</th>\n",
       "      <th>cylinders</th>\n",
       "      <th>displacement</th>\n",
       "      <th>hp</th>\n",
       "      <th>weight</th>\n",
       "      <th>acceleration</th>\n",
       "      <th>model year</th>\n",
       "      <th>usa</th>\n",
       "      <th>europe</th>\n",
       "      <th>japan</th>\n",
       "    </tr>\n",
       "  </thead>\n",
       "  <tbody>\n",
       "    <tr>\n",
       "      <th>count</th>\n",
       "      <td>314.000000</td>\n",
       "      <td>314.000000</td>\n",
       "      <td>314.000000</td>\n",
       "      <td>314.000000</td>\n",
       "      <td>314.000000</td>\n",
       "      <td>314.000000</td>\n",
       "      <td>314.000000</td>\n",
       "      <td>314.000000</td>\n",
       "      <td>314.000000</td>\n",
       "      <td>314.000000</td>\n",
       "    </tr>\n",
       "    <tr>\n",
       "      <th>mean</th>\n",
       "      <td>23.532166</td>\n",
       "      <td>5.490446</td>\n",
       "      <td>195.472930</td>\n",
       "      <td>104.108280</td>\n",
       "      <td>2972.388535</td>\n",
       "      <td>15.509236</td>\n",
       "      <td>76.012739</td>\n",
       "      <td>0.630573</td>\n",
       "      <td>0.178344</td>\n",
       "      <td>0.191083</td>\n",
       "    </tr>\n",
       "    <tr>\n",
       "      <th>std</th>\n",
       "      <td>7.951761</td>\n",
       "      <td>1.703662</td>\n",
       "      <td>105.269835</td>\n",
       "      <td>38.153395</td>\n",
       "      <td>844.377092</td>\n",
       "      <td>2.797765</td>\n",
       "      <td>3.678775</td>\n",
       "      <td>0.483420</td>\n",
       "      <td>0.383413</td>\n",
       "      <td>0.393782</td>\n",
       "    </tr>\n",
       "    <tr>\n",
       "      <th>min</th>\n",
       "      <td>9.000000</td>\n",
       "      <td>3.000000</td>\n",
       "      <td>68.000000</td>\n",
       "      <td>46.000000</td>\n",
       "      <td>1613.000000</td>\n",
       "      <td>8.000000</td>\n",
       "      <td>70.000000</td>\n",
       "      <td>0.000000</td>\n",
       "      <td>0.000000</td>\n",
       "      <td>0.000000</td>\n",
       "    </tr>\n",
       "    <tr>\n",
       "      <th>25%</th>\n",
       "      <td>17.500000</td>\n",
       "      <td>4.000000</td>\n",
       "      <td>105.000000</td>\n",
       "      <td>75.250000</td>\n",
       "      <td>2223.750000</td>\n",
       "      <td>13.500000</td>\n",
       "      <td>73.000000</td>\n",
       "      <td>0.000000</td>\n",
       "      <td>0.000000</td>\n",
       "      <td>0.000000</td>\n",
       "    </tr>\n",
       "    <tr>\n",
       "      <th>50%</th>\n",
       "      <td>22.200000</td>\n",
       "      <td>4.000000</td>\n",
       "      <td>151.000000</td>\n",
       "      <td>95.000000</td>\n",
       "      <td>2818.500000</td>\n",
       "      <td>15.500000</td>\n",
       "      <td>76.000000</td>\n",
       "      <td>1.000000</td>\n",
       "      <td>0.000000</td>\n",
       "      <td>0.000000</td>\n",
       "    </tr>\n",
       "    <tr>\n",
       "      <th>75%</th>\n",
       "      <td>29.000000</td>\n",
       "      <td>8.000000</td>\n",
       "      <td>265.750000</td>\n",
       "      <td>125.000000</td>\n",
       "      <td>3608.000000</td>\n",
       "      <td>17.000000</td>\n",
       "      <td>79.000000</td>\n",
       "      <td>1.000000</td>\n",
       "      <td>0.000000</td>\n",
       "      <td>0.000000</td>\n",
       "    </tr>\n",
       "    <tr>\n",
       "      <th>max</th>\n",
       "      <td>46.600000</td>\n",
       "      <td>8.000000</td>\n",
       "      <td>455.000000</td>\n",
       "      <td>225.000000</td>\n",
       "      <td>4997.000000</td>\n",
       "      <td>24.600000</td>\n",
       "      <td>82.000000</td>\n",
       "      <td>1.000000</td>\n",
       "      <td>1.000000</td>\n",
       "      <td>1.000000</td>\n",
       "    </tr>\n",
       "  </tbody>\n",
       "</table>\n",
       "</div>"
      ],
      "text/plain": [
       "              mpg   cylinders  displacement          hp       weight  \\\n",
       "count  314.000000  314.000000    314.000000  314.000000   314.000000   \n",
       "mean    23.532166    5.490446    195.472930  104.108280  2972.388535   \n",
       "std      7.951761    1.703662    105.269835   38.153395   844.377092   \n",
       "min      9.000000    3.000000     68.000000   46.000000  1613.000000   \n",
       "25%     17.500000    4.000000    105.000000   75.250000  2223.750000   \n",
       "50%     22.200000    4.000000    151.000000   95.000000  2818.500000   \n",
       "75%     29.000000    8.000000    265.750000  125.000000  3608.000000   \n",
       "max     46.600000    8.000000    455.000000  225.000000  4997.000000   \n",
       "\n",
       "       acceleration  model year         usa      europe       japan  \n",
       "count    314.000000  314.000000  314.000000  314.000000  314.000000  \n",
       "mean      15.509236   76.012739    0.630573    0.178344    0.191083  \n",
       "std        2.797765    3.678775    0.483420    0.383413    0.393782  \n",
       "min        8.000000   70.000000    0.000000    0.000000    0.000000  \n",
       "25%       13.500000   73.000000    0.000000    0.000000    0.000000  \n",
       "50%       15.500000   76.000000    1.000000    0.000000    0.000000  \n",
       "75%       17.000000   79.000000    1.000000    0.000000    0.000000  \n",
       "max       24.600000   82.000000    1.000000    1.000000    1.000000  "
      ]
     },
     "execution_count": 74,
     "metadata": {},
     "output_type": "execute_result"
    }
   ],
   "source": [
    "# train_stats.pop('mpg')\n",
    "train_stats"
   ]
  },
  {
   "cell_type": "code",
   "execution_count": 86,
   "metadata": {},
   "outputs": [
    {
     "data": {
      "text/html": [
       "<div>\n",
       "<style scoped>\n",
       "    .dataframe tbody tr th:only-of-type {\n",
       "        vertical-align: middle;\n",
       "    }\n",
       "\n",
       "    .dataframe tbody tr th {\n",
       "        vertical-align: top;\n",
       "    }\n",
       "\n",
       "    .dataframe thead th {\n",
       "        text-align: right;\n",
       "    }\n",
       "</style>\n",
       "<table border=\"1\" class=\"dataframe\">\n",
       "  <thead>\n",
       "    <tr style=\"text-align: right;\">\n",
       "      <th></th>\n",
       "      <th>count</th>\n",
       "      <th>mean</th>\n",
       "      <th>std</th>\n",
       "      <th>min</th>\n",
       "      <th>25%</th>\n",
       "      <th>50%</th>\n",
       "      <th>75%</th>\n",
       "      <th>max</th>\n",
       "    </tr>\n",
       "  </thead>\n",
       "  <tbody>\n",
       "    <tr>\n",
       "      <th>mpg</th>\n",
       "      <td>314.0</td>\n",
       "      <td>23.532166</td>\n",
       "      <td>7.951761</td>\n",
       "      <td>9.0</td>\n",
       "      <td>17.50</td>\n",
       "      <td>22.2</td>\n",
       "      <td>29.00</td>\n",
       "      <td>46.6</td>\n",
       "    </tr>\n",
       "    <tr>\n",
       "      <th>cylinders</th>\n",
       "      <td>314.0</td>\n",
       "      <td>5.490446</td>\n",
       "      <td>1.703662</td>\n",
       "      <td>3.0</td>\n",
       "      <td>4.00</td>\n",
       "      <td>4.0</td>\n",
       "      <td>8.00</td>\n",
       "      <td>8.0</td>\n",
       "    </tr>\n",
       "    <tr>\n",
       "      <th>displacement</th>\n",
       "      <td>314.0</td>\n",
       "      <td>195.472930</td>\n",
       "      <td>105.269835</td>\n",
       "      <td>68.0</td>\n",
       "      <td>105.00</td>\n",
       "      <td>151.0</td>\n",
       "      <td>265.75</td>\n",
       "      <td>455.0</td>\n",
       "    </tr>\n",
       "    <tr>\n",
       "      <th>hp</th>\n",
       "      <td>314.0</td>\n",
       "      <td>104.108280</td>\n",
       "      <td>38.153395</td>\n",
       "      <td>46.0</td>\n",
       "      <td>75.25</td>\n",
       "      <td>95.0</td>\n",
       "      <td>125.00</td>\n",
       "      <td>225.0</td>\n",
       "    </tr>\n",
       "    <tr>\n",
       "      <th>weight</th>\n",
       "      <td>314.0</td>\n",
       "      <td>2972.388535</td>\n",
       "      <td>844.377092</td>\n",
       "      <td>1613.0</td>\n",
       "      <td>2223.75</td>\n",
       "      <td>2818.5</td>\n",
       "      <td>3608.00</td>\n",
       "      <td>4997.0</td>\n",
       "    </tr>\n",
       "    <tr>\n",
       "      <th>acceleration</th>\n",
       "      <td>314.0</td>\n",
       "      <td>15.509236</td>\n",
       "      <td>2.797765</td>\n",
       "      <td>8.0</td>\n",
       "      <td>13.50</td>\n",
       "      <td>15.5</td>\n",
       "      <td>17.00</td>\n",
       "      <td>24.6</td>\n",
       "    </tr>\n",
       "    <tr>\n",
       "      <th>model year</th>\n",
       "      <td>314.0</td>\n",
       "      <td>76.012739</td>\n",
       "      <td>3.678775</td>\n",
       "      <td>70.0</td>\n",
       "      <td>73.00</td>\n",
       "      <td>76.0</td>\n",
       "      <td>79.00</td>\n",
       "      <td>82.0</td>\n",
       "    </tr>\n",
       "    <tr>\n",
       "      <th>usa</th>\n",
       "      <td>314.0</td>\n",
       "      <td>0.630573</td>\n",
       "      <td>0.483420</td>\n",
       "      <td>0.0</td>\n",
       "      <td>0.00</td>\n",
       "      <td>1.0</td>\n",
       "      <td>1.00</td>\n",
       "      <td>1.0</td>\n",
       "    </tr>\n",
       "    <tr>\n",
       "      <th>europe</th>\n",
       "      <td>314.0</td>\n",
       "      <td>0.178344</td>\n",
       "      <td>0.383413</td>\n",
       "      <td>0.0</td>\n",
       "      <td>0.00</td>\n",
       "      <td>0.0</td>\n",
       "      <td>0.00</td>\n",
       "      <td>1.0</td>\n",
       "    </tr>\n",
       "    <tr>\n",
       "      <th>japan</th>\n",
       "      <td>314.0</td>\n",
       "      <td>0.191083</td>\n",
       "      <td>0.393782</td>\n",
       "      <td>0.0</td>\n",
       "      <td>0.00</td>\n",
       "      <td>0.0</td>\n",
       "      <td>0.00</td>\n",
       "      <td>1.0</td>\n",
       "    </tr>\n",
       "  </tbody>\n",
       "</table>\n",
       "</div>"
      ],
      "text/plain": [
       "              count         mean         std     min      25%     50%  \\\n",
       "mpg           314.0    23.532166    7.951761     9.0    17.50    22.2   \n",
       "cylinders     314.0     5.490446    1.703662     3.0     4.00     4.0   \n",
       "displacement  314.0   195.472930  105.269835    68.0   105.00   151.0   \n",
       "hp            314.0   104.108280   38.153395    46.0    75.25    95.0   \n",
       "weight        314.0  2972.388535  844.377092  1613.0  2223.75  2818.5   \n",
       "acceleration  314.0    15.509236    2.797765     8.0    13.50    15.5   \n",
       "model year    314.0    76.012739    3.678775    70.0    73.00    76.0   \n",
       "usa           314.0     0.630573    0.483420     0.0     0.00     1.0   \n",
       "europe        314.0     0.178344    0.383413     0.0     0.00     0.0   \n",
       "japan         314.0     0.191083    0.393782     0.0     0.00     0.0   \n",
       "\n",
       "                  75%     max  \n",
       "mpg             29.00    46.6  \n",
       "cylinders        8.00     8.0  \n",
       "displacement   265.75   455.0  \n",
       "hp             125.00   225.0  \n",
       "weight        3608.00  4997.0  \n",
       "acceleration    17.00    24.6  \n",
       "model year      79.00    82.0  \n",
       "usa              1.00     1.0  \n",
       "europe           0.00     1.0  \n",
       "japan            0.00     1.0  "
      ]
     },
     "execution_count": 86,
     "metadata": {},
     "output_type": "execute_result"
    }
   ],
   "source": [
    "train_stats = train_stats.transpose()\n",
    "train_stats"
   ]
  },
  {
   "cell_type": "code",
   "execution_count": 55,
   "metadata": {},
   "outputs": [
    {
     "data": {
      "text/plain": [
       "Index(['count', 'mean', 'std', 'min', '25%', '50%', '75%', 'max'], dtype='object')"
      ]
     },
     "execution_count": 55,
     "metadata": {},
     "output_type": "execute_result"
    }
   ],
   "source": [
    "# train_stats.keys()"
   ]
  },
  {
   "cell_type": "markdown",
   "metadata": {},
   "source": [
    "**separate labels from features**"
   ]
  },
  {
   "cell_type": "code",
   "execution_count": 81,
   "metadata": {},
   "outputs": [],
   "source": [
    "# train_labels = train_data.pop('mpg')"
   ]
  },
  {
   "cell_type": "code",
   "execution_count": 82,
   "metadata": {},
   "outputs": [],
   "source": [
    "# test_labels = test_data.pop('mpg')"
   ]
  },
  {
   "cell_type": "markdown",
   "metadata": {},
   "source": [
    "**Data Normalization**"
   ]
  },
  {
   "cell_type": "code",
   "execution_count": 87,
   "metadata": {},
   "outputs": [
    {
     "data": {
      "text/html": [
       "<div>\n",
       "<style scoped>\n",
       "    .dataframe tbody tr th:only-of-type {\n",
       "        vertical-align: middle;\n",
       "    }\n",
       "\n",
       "    .dataframe tbody tr th {\n",
       "        vertical-align: top;\n",
       "    }\n",
       "\n",
       "    .dataframe thead th {\n",
       "        text-align: right;\n",
       "    }\n",
       "</style>\n",
       "<table border=\"1\" class=\"dataframe\">\n",
       "  <thead>\n",
       "    <tr style=\"text-align: right;\">\n",
       "      <th></th>\n",
       "      <th>mpg</th>\n",
       "      <th>cylinders</th>\n",
       "      <th>displacement</th>\n",
       "      <th>hp</th>\n",
       "      <th>weight</th>\n",
       "      <th>acceleration</th>\n",
       "      <th>model year</th>\n",
       "      <th>usa</th>\n",
       "      <th>europe</th>\n",
       "      <th>japan</th>\n",
       "    </tr>\n",
       "  </thead>\n",
       "  <tbody>\n",
       "    <tr>\n",
       "      <th>82</th>\n",
       "      <td>-0.066924</td>\n",
       "      <td>-0.874848</td>\n",
       "      <td>-0.716947</td>\n",
       "      <td>-0.186308</td>\n",
       "      <td>-0.552346</td>\n",
       "      <td>-0.360729</td>\n",
       "      <td>-1.090781</td>\n",
       "      <td>-1.304400</td>\n",
       "      <td>-0.465148</td>\n",
       "      <td>2.054228</td>\n",
       "    </tr>\n",
       "    <tr>\n",
       "      <th>167</th>\n",
       "      <td>0.687626</td>\n",
       "      <td>-0.874848</td>\n",
       "      <td>-0.935434</td>\n",
       "      <td>-0.762928</td>\n",
       "      <td>-0.949088</td>\n",
       "      <td>0.175413</td>\n",
       "      <td>-0.275292</td>\n",
       "      <td>-1.304400</td>\n",
       "      <td>-0.465148</td>\n",
       "      <td>2.054228</td>\n",
       "    </tr>\n",
       "    <tr>\n",
       "      <th>356</th>\n",
       "      <td>1.115204</td>\n",
       "      <td>-0.874848</td>\n",
       "      <td>-0.830940</td>\n",
       "      <td>-0.762928</td>\n",
       "      <td>-0.737098</td>\n",
       "      <td>0.461356</td>\n",
       "      <td>1.355685</td>\n",
       "      <td>-1.304400</td>\n",
       "      <td>-0.465148</td>\n",
       "      <td>2.054228</td>\n",
       "    </tr>\n",
       "    <tr>\n",
       "      <th>120</th>\n",
       "      <td>-0.569958</td>\n",
       "      <td>-0.874848</td>\n",
       "      <td>-0.707448</td>\n",
       "      <td>0.206842</td>\n",
       "      <td>-0.123628</td>\n",
       "      <td>-0.003301</td>\n",
       "      <td>-0.818952</td>\n",
       "      <td>-1.304400</td>\n",
       "      <td>2.143005</td>\n",
       "      <td>-0.485251</td>\n",
       "    </tr>\n",
       "    <tr>\n",
       "      <th>385</th>\n",
       "      <td>1.819450</td>\n",
       "      <td>-0.874848</td>\n",
       "      <td>-0.992430</td>\n",
       "      <td>-0.972608</td>\n",
       "      <td>-1.157526</td>\n",
       "      <td>0.246899</td>\n",
       "      <td>1.627515</td>\n",
       "      <td>-1.304400</td>\n",
       "      <td>-0.465148</td>\n",
       "      <td>2.054228</td>\n",
       "    </tr>\n",
       "    <tr>\n",
       "      <th>238</th>\n",
       "      <td>1.253538</td>\n",
       "      <td>-0.874848</td>\n",
       "      <td>-0.925934</td>\n",
       "      <td>-0.553248</td>\n",
       "      <td>-1.062782</td>\n",
       "      <td>0.139670</td>\n",
       "      <td>0.268367</td>\n",
       "      <td>0.764194</td>\n",
       "      <td>-0.465148</td>\n",
       "      <td>-0.485251</td>\n",
       "    </tr>\n",
       "  </tbody>\n",
       "</table>\n",
       "</div>"
      ],
      "text/plain": [
       "          mpg  cylinders  displacement        hp    weight  acceleration  \\\n",
       "82  -0.066924  -0.874848     -0.716947 -0.186308 -0.552346     -0.360729   \n",
       "167  0.687626  -0.874848     -0.935434 -0.762928 -0.949088      0.175413   \n",
       "356  1.115204  -0.874848     -0.830940 -0.762928 -0.737098      0.461356   \n",
       "120 -0.569958  -0.874848     -0.707448  0.206842 -0.123628     -0.003301   \n",
       "385  1.819450  -0.874848     -0.992430 -0.972608 -1.157526      0.246899   \n",
       "238  1.253538  -0.874848     -0.925934 -0.553248 -1.062782      0.139670   \n",
       "\n",
       "     model year       usa    europe     japan  \n",
       "82    -1.090781 -1.304400 -0.465148  2.054228  \n",
       "167   -0.275292 -1.304400 -0.465148  2.054228  \n",
       "356    1.355685 -1.304400 -0.465148  2.054228  \n",
       "120   -0.818952 -1.304400  2.143005 -0.485251  \n",
       "385    1.627515 -1.304400 -0.465148  2.054228  \n",
       "238    0.268367  0.764194 -0.465148 -0.485251  "
      ]
     },
     "execution_count": 87,
     "metadata": {},
     "output_type": "execute_result"
    }
   ],
   "source": [
    "def norm(x):\n",
    "    return ((x-train_stats['mean'])/ train_stats['std'])\n",
    "normTrainData = norm(train_data)\n",
    "normTestData = norm(test_data)\n",
    "normTestData.head()\n",
    "normTrainData.head(6) "
   ]
  },
  {
   "cell_type": "code",
   "execution_count": 88,
   "metadata": {},
   "outputs": [
    {
     "data": {
      "text/plain": [
       "10"
      ]
     },
     "execution_count": 88,
     "metadata": {},
     "output_type": "execute_result"
    }
   ],
   "source": [
    "len(train_data.keys())"
   ]
  },
  {
   "cell_type": "code",
   "execution_count": 89,
   "metadata": {},
   "outputs": [],
   "source": [
    "def buildModel():\n",
    "    model = keras.Sequential([\n",
    "        layers.Dense(64, activation= 'relu', input_shape = [ len(train_data.keys())]),\n",
    "        layers.Dense(64, activation= 'relu'),\n",
    "        layers.Dense(1)\n",
    "    ])\n",
    "    rmsProp = tf.keras.optimizers.RMSprop(0.001)\n",
    "    model.compile(loss='mse', optimizer = rmsProp, metrics = ['mae', 'mse']) # we may aslo use default RMSProp as optimizer='rms'\n",
    "    return model\n",
    "    "
   ]
  },
  {
   "cell_type": "code",
   "execution_count": 90,
   "metadata": {},
   "outputs": [],
   "source": [
    "model = buildModel()"
   ]
  },
  {
   "cell_type": "code",
   "execution_count": 92,
   "metadata": {},
   "outputs": [
    {
     "name": "stdout",
     "output_type": "stream",
     "text": [
      "Model: \"sequential_4\"\n",
      "_________________________________________________________________\n",
      "Layer (type)                 Output Shape              Param #   \n",
      "=================================================================\n",
      "dense_12 (Dense)             (None, 64)                704       \n",
      "_________________________________________________________________\n",
      "dense_13 (Dense)             (None, 64)                4160      \n",
      "_________________________________________________________________\n",
      "dense_14 (Dense)             (None, 1)                 65        \n",
      "=================================================================\n",
      "Total params: 4,929\n",
      "Trainable params: 4,929\n",
      "Non-trainable params: 0\n",
      "_________________________________________________________________\n"
     ]
    }
   ],
   "source": [
    "modelSum = model.summary()"
   ]
  },
  {
   "cell_type": "markdown",
   "metadata": {},
   "source": [
    "**Time to choose Batch_size** and predict on the trained model"
   ]
  },
  {
   "cell_type": "code",
   "execution_count": 93,
   "metadata": {},
   "outputs": [
    {
     "data": {
      "text/plain": [
       "array([[-0.22457947],\n",
       "       [-0.08622817],\n",
       "       [ 0.12475353],\n",
       "       [-0.1338345 ],\n",
       "       [ 0.28355268],\n",
       "       [ 0.37196553],\n",
       "       [-0.26443484],\n",
       "       [-0.00097866],\n",
       "       [-0.2538276 ],\n",
       "       [ 0.07133391]], dtype=float32)"
      ]
     },
     "execution_count": 93,
     "metadata": {},
     "output_type": "execute_result"
    }
   ],
   "source": [
    "exampleBatch = normTrainData[:10]\n",
    "# exampleBatch\n",
    "exampleResult = model.predict(exampleBatch)\n",
    "exampleResult"
   ]
  },
  {
   "cell_type": "markdown",
   "metadata": {},
   "source": [
    "**Training the model** for epoch: 1000 and ***recording the training and validation accuracy***"
   ]
  },
  {
   "cell_type": "code",
   "execution_count": null,
   "metadata": {},
   "outputs": [],
   "source": [
    "class PrintDot(keras.callbacks.Callback):\n",
    "    def on_epoch_end(self, epoch, lo)"
   ]
  }
 ],
 "metadata": {
  "kernelspec": {
   "display_name": "Python 3",
   "language": "python",
   "name": "python3"
  },
  "language_info": {
   "codemirror_mode": {
    "name": "ipython",
    "version": 3
   },
   "file_extension": ".py",
   "mimetype": "text/x-python",
   "name": "python",
   "nbconvert_exporter": "python",
   "pygments_lexer": "ipython3",
   "version": "3.6.8"
  }
 },
 "nbformat": 4,
 "nbformat_minor": 2
}
